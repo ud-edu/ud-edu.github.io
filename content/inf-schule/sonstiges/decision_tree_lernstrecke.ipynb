{
 "cells": [
  {
   "cell_type": "markdown",
   "id": "b37373c0",
   "metadata": {},
   "source": [
    "# Einlesen der Daten und erster Überblick"
   ]
  },
  {
   "cell_type": "code",
   "execution_count": 1,
   "id": "a05f2473",
   "metadata": {},
   "outputs": [],
   "source": [
    "import pandas as pd\n",
    "daten = pd.read_csv('d14.csv')  "
   ]
  },
  {
   "cell_type": "code",
   "execution_count": 2,
   "id": "aa8b7408",
   "metadata": {},
   "outputs": [
    {
     "data": {
      "text/html": [
       "<div>\n",
       "<style scoped>\n",
       "    .dataframe tbody tr th:only-of-type {\n",
       "        vertical-align: middle;\n",
       "    }\n",
       "\n",
       "    .dataframe tbody tr th {\n",
       "        vertical-align: top;\n",
       "    }\n",
       "\n",
       "    .dataframe thead th {\n",
       "        text-align: right;\n",
       "    }\n",
       "</style>\n",
       "<table border=\"1\" class=\"dataframe\">\n",
       "  <thead>\n",
       "    <tr style=\"text-align: right;\">\n",
       "      <th></th>\n",
       "      <th>Name</th>\n",
       "      <th>Energie</th>\n",
       "      <th>Fett</th>\n",
       "      <th>FS</th>\n",
       "      <th>Kohlenhydrate</th>\n",
       "      <th>Zucker</th>\n",
       "      <th>Eisweiss</th>\n",
       "      <th>Salz</th>\n",
       "      <th>Label</th>\n",
       "    </tr>\n",
       "  </thead>\n",
       "  <tbody>\n",
       "    <tr>\n",
       "      <th>0</th>\n",
       "      <td>Apfel</td>\n",
       "      <td>52</td>\n",
       "      <td>0.2</td>\n",
       "      <td>0.0</td>\n",
       "      <td>13.8</td>\n",
       "      <td>11.0</td>\n",
       "      <td>0.3</td>\n",
       "      <td>0.00</td>\n",
       "      <td>1</td>\n",
       "    </tr>\n",
       "    <tr>\n",
       "      <th>1</th>\n",
       "      <td>Waffel</td>\n",
       "      <td>459</td>\n",
       "      <td>24.3</td>\n",
       "      <td>12.7</td>\n",
       "      <td>53.0</td>\n",
       "      <td>33.8</td>\n",
       "      <td>7.5</td>\n",
       "      <td>0.30</td>\n",
       "      <td>0</td>\n",
       "    </tr>\n",
       "    <tr>\n",
       "      <th>2</th>\n",
       "      <td>Spiegelei</td>\n",
       "      <td>204</td>\n",
       "      <td>17.1</td>\n",
       "      <td>6.1</td>\n",
       "      <td>1.0</td>\n",
       "      <td>1.0</td>\n",
       "      <td>11.4</td>\n",
       "      <td>0.54</td>\n",
       "      <td>1</td>\n",
       "    </tr>\n",
       "    <tr>\n",
       "      <th>3</th>\n",
       "      <td>Chips</td>\n",
       "      <td>503</td>\n",
       "      <td>28.0</td>\n",
       "      <td>2.6</td>\n",
       "      <td>53.0</td>\n",
       "      <td>2.9</td>\n",
       "      <td>6.3</td>\n",
       "      <td>2.80</td>\n",
       "      <td>0</td>\n",
       "    </tr>\n",
       "    <tr>\n",
       "      <th>4</th>\n",
       "      <td>Fritierte Pommes</td>\n",
       "      <td>289</td>\n",
       "      <td>14.0</td>\n",
       "      <td>1.3</td>\n",
       "      <td>36.0</td>\n",
       "      <td>0.3</td>\n",
       "      <td>3.4</td>\n",
       "      <td>0.70</td>\n",
       "      <td>0</td>\n",
       "    </tr>\n",
       "    <tr>\n",
       "      <th>5</th>\n",
       "      <td>Sahnebonbons</td>\n",
       "      <td>424</td>\n",
       "      <td>8.4</td>\n",
       "      <td>5.7</td>\n",
       "      <td>86.9</td>\n",
       "      <td>71.6</td>\n",
       "      <td>0.3</td>\n",
       "      <td>1.00</td>\n",
       "      <td>0</td>\n",
       "    </tr>\n",
       "    <tr>\n",
       "      <th>6</th>\n",
       "      <td>Brotscheibe</td>\n",
       "      <td>229</td>\n",
       "      <td>4.9</td>\n",
       "      <td>0.8</td>\n",
       "      <td>35.0</td>\n",
       "      <td>2.3</td>\n",
       "      <td>7.7</td>\n",
       "      <td>1.03</td>\n",
       "      <td>1</td>\n",
       "    </tr>\n",
       "    <tr>\n",
       "      <th>7</th>\n",
       "      <td>Schokomuesli</td>\n",
       "      <td>406</td>\n",
       "      <td>11.3</td>\n",
       "      <td>4.7</td>\n",
       "      <td>60.7</td>\n",
       "      <td>22.2</td>\n",
       "      <td>10.7</td>\n",
       "      <td>0.25</td>\n",
       "      <td>0</td>\n",
       "    </tr>\n",
       "    <tr>\n",
       "      <th>8</th>\n",
       "      <td>Chicken Nuggets</td>\n",
       "      <td>241</td>\n",
       "      <td>11.0</td>\n",
       "      <td>1.5</td>\n",
       "      <td>21.0</td>\n",
       "      <td>0.5</td>\n",
       "      <td>14.0</td>\n",
       "      <td>0.98</td>\n",
       "      <td>0</td>\n",
       "    </tr>\n",
       "    <tr>\n",
       "      <th>9</th>\n",
       "      <td>Banane</td>\n",
       "      <td>95</td>\n",
       "      <td>0.3</td>\n",
       "      <td>0.1</td>\n",
       "      <td>21.0</td>\n",
       "      <td>12.0</td>\n",
       "      <td>1.1</td>\n",
       "      <td>0.10</td>\n",
       "      <td>1</td>\n",
       "    </tr>\n",
       "    <tr>\n",
       "      <th>10</th>\n",
       "      <td>Gouda</td>\n",
       "      <td>354</td>\n",
       "      <td>27.7</td>\n",
       "      <td>17.9</td>\n",
       "      <td>0.0</td>\n",
       "      <td>0.0</td>\n",
       "      <td>26.3</td>\n",
       "      <td>2.17</td>\n",
       "      <td>1</td>\n",
       "    </tr>\n",
       "    <tr>\n",
       "      <th>11</th>\n",
       "      <td>Tomate</td>\n",
       "      <td>19</td>\n",
       "      <td>0.1</td>\n",
       "      <td>0.0</td>\n",
       "      <td>3.5</td>\n",
       "      <td>3.2</td>\n",
       "      <td>0.7</td>\n",
       "      <td>0.00</td>\n",
       "      <td>1</td>\n",
       "    </tr>\n",
       "    <tr>\n",
       "      <th>12</th>\n",
       "      <td>Ketchup</td>\n",
       "      <td>101</td>\n",
       "      <td>0.5</td>\n",
       "      <td>0.1</td>\n",
       "      <td>20.0</td>\n",
       "      <td>19.0</td>\n",
       "      <td>1.7</td>\n",
       "      <td>1.80</td>\n",
       "      <td>0</td>\n",
       "    </tr>\n",
       "    <tr>\n",
       "      <th>13</th>\n",
       "      <td>Doppelkeks</td>\n",
       "      <td>470</td>\n",
       "      <td>18.5</td>\n",
       "      <td>8.6</td>\n",
       "      <td>68.7</td>\n",
       "      <td>32.4</td>\n",
       "      <td>5.4</td>\n",
       "      <td>0.40</td>\n",
       "      <td>0</td>\n",
       "    </tr>\n",
       "  </tbody>\n",
       "</table>\n",
       "</div>"
      ],
      "text/plain": [
       "                Name  Energie  Fett    FS  Kohlenhydrate  Zucker  Eisweiss  \\\n",
       "0              Apfel       52   0.2   0.0           13.8    11.0       0.3   \n",
       "1             Waffel      459  24.3  12.7           53.0    33.8       7.5   \n",
       "2          Spiegelei      204  17.1   6.1            1.0     1.0      11.4   \n",
       "3              Chips      503  28.0   2.6           53.0     2.9       6.3   \n",
       "4   Fritierte Pommes      289  14.0   1.3           36.0     0.3       3.4   \n",
       "5       Sahnebonbons      424   8.4   5.7           86.9    71.6       0.3   \n",
       "6        Brotscheibe      229   4.9   0.8           35.0     2.3       7.7   \n",
       "7       Schokomuesli      406  11.3   4.7           60.7    22.2      10.7   \n",
       "8    Chicken Nuggets      241  11.0   1.5           21.0     0.5      14.0   \n",
       "9             Banane       95   0.3   0.1           21.0    12.0       1.1   \n",
       "10             Gouda      354  27.7  17.9            0.0     0.0      26.3   \n",
       "11            Tomate       19   0.1   0.0            3.5     3.2       0.7   \n",
       "12           Ketchup      101   0.5   0.1           20.0    19.0       1.7   \n",
       "13        Doppelkeks      470  18.5   8.6           68.7    32.4       5.4   \n",
       "\n",
       "    Salz  Label  \n",
       "0   0.00      1  \n",
       "1   0.30      0  \n",
       "2   0.54      1  \n",
       "3   2.80      0  \n",
       "4   0.70      0  \n",
       "5   1.00      0  \n",
       "6   1.03      1  \n",
       "7   0.25      0  \n",
       "8   0.98      0  \n",
       "9   0.10      1  \n",
       "10  2.17      1  \n",
       "11  0.00      1  \n",
       "12  1.80      0  \n",
       "13  0.40      0  "
      ]
     },
     "execution_count": 2,
     "metadata": {},
     "output_type": "execute_result"
    }
   ],
   "source": [
    "daten"
   ]
  },
  {
   "cell_type": "markdown",
   "id": "5452e81e",
   "metadata": {},
   "source": [
    "# Entscheidungsbaum mit allen Daten für ersten Überblick"
   ]
  },
  {
   "cell_type": "code",
   "execution_count": 3,
   "id": "5eb8372e",
   "metadata": {},
   "outputs": [],
   "source": [
    "import sklearn.tree\n",
    "import matplotlib"
   ]
  },
  {
   "cell_type": "markdown",
   "id": "cb41ad3f",
   "metadata": {},
   "source": [
    "### Wähle Parameter für Entscheidungsbaum"
   ]
  },
  {
   "cell_type": "code",
   "execution_count": 7,
   "id": "d2467021",
   "metadata": {},
   "outputs": [],
   "source": [
    "attribute  = [\"Energie\"] \n",
    "tiefe_baum = 1"
   ]
  },
  {
   "cell_type": "markdown",
   "id": "76e8f54b",
   "metadata": {},
   "source": [
    "### Erstelle Baum\n"
   ]
  },
  {
   "cell_type": "code",
   "execution_count": 8,
   "id": "0254ca20",
   "metadata": {},
   "outputs": [
    {
     "data": {
      "image/png": "[encoded data removed]",
      "text/plain": [
       "<Figure size 640x480 with 1 Axes>"
      ]
     },
     "metadata": {},
     "output_type": "display_data"
    }
   ],
   "source": [
    "baum = sklearn.tree.DecisionTreeClassifier( random_state=0, max_depth=tiefe_baum)\n",
    "baum.fit( daten[attribute], daten[\"Label\"] )\n",
    "sklearn.tree.plot_tree( baum, feature_names=attribute, label=None, filled=True,\n",
    "                        class_names=[\"ungesund\",\"gesund\"], impurity=False,\n",
    "                        proportion=False, fontsize=8 )\n",
    "matplotlib.pyplot.show()"
   ]
  },
  {
   "cell_type": "markdown",
   "id": "3f0ecb30",
   "metadata": {},
   "source": [
    "# Validierung"
   ]
  },
  {
   "cell_type": "code",
   "execution_count": 9,
   "id": "0656b83f",
   "metadata": {},
   "outputs": [
    {
     "name": "stdout",
     "output_type": "stream",
     "text": [
      "falsch klassifiziert:  10 Gouda\n",
      "falsch klassifiziert:  12 Ketchup\n",
      "Anzahl  korrekt klassifiziert:  12\n",
      "Prozent korrekt klassifiziert:  85.71428571428571 %\n",
      "Anzahl  falsch klassifiziert:  2\n",
      "Prozent falsch klassifiziert:  14.285714285714285 %\n"
     ]
    }
   ],
   "source": [
    "categorized_correct = 0\n",
    "for i in daten.index:\n",
    "    if( baum.predict(daten.loc[[i]][attribute]) == (daten.loc[i]['Label']) ):\n",
    "        categorized_correct += 1\n",
    "    else:\n",
    "        print(\"falsch klassifiziert: \", i, daten.loc[i]['Name'])\n",
    "print( \"Anzahl  korrekt klassifiziert: \", categorized_correct )    \n",
    "print( \"Prozent korrekt klassifiziert: \", categorized_correct/len(daten)*100, \"%\")\n",
    "print( \"Anzahl  falsch klassifiziert: \", len(daten) - categorized_correct )    \n",
    "print( \"Prozent falsch klassifiziert: \", (len(daten) - categorized_correct)/len(daten)*100, \"%\")"
   ]
  },
  {
   "cell_type": "code",
   "execution_count": null,
   "id": "0394124f",
   "metadata": {},
   "outputs": [],
   "source": []
  }
 ],
 "metadata": {
  "kernelspec": {
   "display_name": "Python 3 (ipykernel)",
   "language": "python",
   "name": "python3"
  },
  "language_info": {
   "codemirror_mode": {
    "name": "ipython",
    "version": 3
   },
   "file_extension": ".py",
   "mimetype": "text/x-python",
   "name": "python",
   "nbconvert_exporter": "python",
   "pygments_lexer": "ipython3",
   "version": "3.11.6"
  }
 },
 "nbformat": 4,
 "nbformat_minor": 5
}
