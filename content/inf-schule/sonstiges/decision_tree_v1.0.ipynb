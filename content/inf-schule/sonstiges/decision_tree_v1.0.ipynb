{
 "cells": [
  {
   "cell_type": "markdown",
   "id": "b37373c0",
   "metadata": {},
   "source": [
    "# Einlesen der Daten und erster Überblick"
   ]
  },
  {
   "cell_type": "code",
   "execution_count": null,
   "id": "a05f2473",
   "metadata": {},
   "outputs": [],
   "source": [
    "import pandas as pd\n",
    "daten = pd.read_csv('d55.csv')  "
   ]
  },
  {
   "cell_type": "code",
   "execution_count": null,
   "id": "aa8b7408",
   "metadata": {},
   "outputs": [],
   "source": [
    "daten.head()"
   ]
  },
  {
   "cell_type": "markdown",
   "id": "15c345b3",
   "metadata": {},
   "source": [
    "# Split in Traings- und Testdaten"
   ]
  },
  {
   "cell_type": "code",
   "execution_count": null,
   "id": "87c6d08e",
   "metadata": {},
   "outputs": [],
   "source": [
    "anzahl_training    = 39\n",
    "anzahl_validierung = 10\n",
    "anzahl_test        = 6\n",
    "if( anzahl_training + anzahl_validierung + anzahl_test != len(daten)):\n",
    "    print(\"ERROR: Anzahlen prüfen\")"
   ]
  },
  {
   "cell_type": "code",
   "execution_count": null,
   "id": "da5eda24",
   "metadata": {},
   "outputs": [],
   "source": [
    "import random\n",
    "rand_ind = list( range(len(daten)) )\n",
    "random.shuffle( rand_ind )\n",
    "print( rand_ind )"
   ]
  },
  {
   "cell_type": "code",
   "execution_count": null,
   "id": "4469e7ce",
   "metadata": {},
   "outputs": [],
   "source": [
    "daten_training    = daten.loc[ rand_ind[:anzahl_training] ] \n",
    "daten_validierung = daten.loc[ rand_ind[anzahl_training:anzahl_training+anzahl_validierung] ] \n",
    "daten_test        = daten.loc[ rand_ind[anzahl_training+anzahl_validierung:] ]"
   ]
  },
  {
   "cell_type": "markdown",
   "id": "3a68f545",
   "metadata": {},
   "source": [
    "# Training des Modells"
   ]
  },
  {
   "cell_type": "code",
   "execution_count": null,
   "id": "977e4ef8",
   "metadata": {},
   "outputs": [],
   "source": [
    "import sklearn.tree\n",
    "import matplotlib"
   ]
  },
  {
   "cell_type": "code",
   "execution_count": null,
   "id": "21fc4910",
   "metadata": {},
   "outputs": [],
   "source": [
    "attribute = ['Salz']\n",
    "tiefe_baum = 1"
   ]
  },
  {
   "cell_type": "code",
   "execution_count": null,
   "id": "c67b42ef",
   "metadata": {
    "scrolled": false
   },
   "outputs": [],
   "source": [
    "baum = sklearn.tree.DecisionTreeClassifier( random_state=0, max_depth=tiefe_baum)\n",
    "baum.fit( daten_training[attribute], daten_training['Label'] )\n",
    "sklearn.tree.plot_tree( baum, feature_names=attribute, label=None, \n",
    "                        filled=True,\n",
    "                        class_names=[\"ungesund\",\"gesund\"], impurity=False,\n",
    "                        proportion=False, fontsize=8 )\n",
    "matplotlib.pyplot.show()"
   ]
  },
  {
   "cell_type": "markdown",
   "id": "8b72a721",
   "metadata": {},
   "source": [
    "# Validierung"
   ]
  },
  {
   "cell_type": "code",
   "execution_count": null,
   "id": "dcfeb93e",
   "metadata": {},
   "outputs": [],
   "source": [
    "def validation(data):\n",
    "    categorized_correct = 0\n",
    "    for i in data.index:\n",
    "        if( baum.predict(data.loc[[i]][attribute]) == (data.loc[i]['Label']) ):\n",
    "            categorized_correct += 1\n",
    "        else:\n",
    "            print(\"falsch klassifiziert: \", i, data.loc[i]['Name'])\n",
    "    print( \"Anzahl  korrekt klassifiziert: \", categorized_correct )    \n",
    "    print( \"Prozent korrekt klassifiziert: \", categorized_correct/len(data)*100, \"%\")\n",
    "    print( \"Anzahl  falsch klassifiziert: \", len(data) - categorized_correct )    \n",
    "    print( \"Prozent falsch klassifiziert: \", (len(data) - categorized_correct)/len(data)*100, \"%\")"
   ]
  },
  {
   "cell_type": "code",
   "execution_count": null,
   "id": "76f9ed12",
   "metadata": {},
   "outputs": [],
   "source": [
    "validation(daten_validierung)"
   ]
  },
  {
   "cell_type": "markdown",
   "id": "902f37d1",
   "metadata": {},
   "source": [
    "# Test der Güte des Models mit dem Testdaten"
   ]
  },
  {
   "cell_type": "code",
   "execution_count": null,
   "id": "0512ed1a",
   "metadata": {},
   "outputs": [],
   "source": [
    "validation(daten_test)"
   ]
  },
  {
   "cell_type": "code",
   "execution_count": null,
   "id": "e88dddc6",
   "metadata": {},
   "outputs": [],
   "source": []
  }
 ],
 "metadata": {
  "kernelspec": {
   "display_name": "Python 3 (ipykernel)",
   "language": "python",
   "name": "python3"
  },
  "language_info": {
   "codemirror_mode": {
    "name": "ipython",
    "version": 3
   },
   "file_extension": ".py",
   "mimetype": "text/x-python",
   "name": "python",
   "nbconvert_exporter": "python",
   "pygments_lexer": "ipython3",
   "version": "3.11.6"
  }
 },
 "nbformat": 4,
 "nbformat_minor": 5
}
