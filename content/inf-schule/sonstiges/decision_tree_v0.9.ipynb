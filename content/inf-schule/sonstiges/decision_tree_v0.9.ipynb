{
 "cells": [
  {
   "cell_type": "markdown",
   "id": "b37373c0",
   "metadata": {},
   "source": [
    "# Einlesen der Daten und erster Überblick"
   ]
  },
  {
   "cell_type": "code",
   "execution_count": 1,
   "id": "a05f2473",
   "metadata": {},
   "outputs": [],
   "source": [
    "import pandas as pd\n",
    "daten = pd.read_csv('d28.csv')  "
   ]
  },
  {
   "cell_type": "code",
   "execution_count": 2,
   "id": "aa8b7408",
   "metadata": {},
   "outputs": [
    {
     "data": {
      "text/html": [
       "<div>\n",
       "<style scoped>\n",
       "    .dataframe tbody tr th:only-of-type {\n",
       "        vertical-align: middle;\n",
       "    }\n",
       "\n",
       "    .dataframe tbody tr th {\n",
       "        vertical-align: top;\n",
       "    }\n",
       "\n",
       "    .dataframe thead th {\n",
       "        text-align: right;\n",
       "    }\n",
       "</style>\n",
       "<table border=\"1\" class=\"dataframe\">\n",
       "  <thead>\n",
       "    <tr style=\"text-align: right;\">\n",
       "      <th></th>\n",
       "      <th>Name</th>\n",
       "      <th>Energie</th>\n",
       "      <th>Fett</th>\n",
       "      <th>FS</th>\n",
       "      <th>Kohlenhydrate</th>\n",
       "      <th>Zucker</th>\n",
       "      <th>Eiweiss</th>\n",
       "      <th>Salz</th>\n",
       "      <th>Label</th>\n",
       "    </tr>\n",
       "  </thead>\n",
       "  <tbody>\n",
       "    <tr>\n",
       "      <th>0</th>\n",
       "      <td>Apfel</td>\n",
       "      <td>52</td>\n",
       "      <td>0.2</td>\n",
       "      <td>0.0</td>\n",
       "      <td>13.8</td>\n",
       "      <td>11.0</td>\n",
       "      <td>0.3</td>\n",
       "      <td>0.0</td>\n",
       "      <td>1</td>\n",
       "    </tr>\n",
       "    <tr>\n",
       "      <th>1</th>\n",
       "      <td>Banane</td>\n",
       "      <td>95</td>\n",
       "      <td>0.3</td>\n",
       "      <td>0.1</td>\n",
       "      <td>21.0</td>\n",
       "      <td>12.0</td>\n",
       "      <td>1.1</td>\n",
       "      <td>0.1</td>\n",
       "      <td>1</td>\n",
       "    </tr>\n",
       "    <tr>\n",
       "      <th>2</th>\n",
       "      <td>Haselnussschnitte</td>\n",
       "      <td>542</td>\n",
       "      <td>31.9</td>\n",
       "      <td>18.6</td>\n",
       "      <td>54.0</td>\n",
       "      <td>42.6</td>\n",
       "      <td>7.6</td>\n",
       "      <td>0.4</td>\n",
       "      <td>0</td>\n",
       "    </tr>\n",
       "    <tr>\n",
       "      <th>3</th>\n",
       "      <td>Gummibärchen</td>\n",
       "      <td>343</td>\n",
       "      <td>0.1</td>\n",
       "      <td>0.1</td>\n",
       "      <td>77.0</td>\n",
       "      <td>46.0</td>\n",
       "      <td>6.9</td>\n",
       "      <td>0.1</td>\n",
       "      <td>0</td>\n",
       "    </tr>\n",
       "    <tr>\n",
       "      <th>4</th>\n",
       "      <td>Chips</td>\n",
       "      <td>503</td>\n",
       "      <td>28.0</td>\n",
       "      <td>2.6</td>\n",
       "      <td>53.0</td>\n",
       "      <td>2.9</td>\n",
       "      <td>6.3</td>\n",
       "      <td>2.8</td>\n",
       "      <td>0</td>\n",
       "    </tr>\n",
       "  </tbody>\n",
       "</table>\n",
       "</div>"
      ],
      "text/plain": [
       "                Name  Energie  Fett    FS  Kohlenhydrate  Zucker  Eiweiss  \\\n",
       "0              Apfel       52   0.2   0.0           13.8    11.0      0.3   \n",
       "1             Banane       95   0.3   0.1           21.0    12.0      1.1   \n",
       "2  Haselnussschnitte      542  31.9  18.6           54.0    42.6      7.6   \n",
       "3       Gummibärchen      343   0.1   0.1           77.0    46.0      6.9   \n",
       "4              Chips      503  28.0   2.6           53.0     2.9      6.3   \n",
       "\n",
       "   Salz  Label  \n",
       "0   0.0      1  \n",
       "1   0.1      1  \n",
       "2   0.4      0  \n",
       "3   0.1      0  \n",
       "4   2.8      0  "
      ]
     },
     "execution_count": 2,
     "metadata": {},
     "output_type": "execute_result"
    }
   ],
   "source": [
    "daten.head()"
   ]
  },
  {
   "cell_type": "markdown",
   "id": "5452e81e",
   "metadata": {},
   "source": [
    "# Entscheidungsbaum mit allen Daten für ersten Überblick"
   ]
  },
  {
   "cell_type": "markdown",
   "id": "cb41ad3f",
   "metadata": {},
   "source": [
    "### Wähle alle Attribute für Entscheidungsbaum"
   ]
  },
  {
   "cell_type": "code",
   "execution_count": 3,
   "id": "5aa1ccfb",
   "metadata": {},
   "outputs": [
    {
     "data": {
      "text/plain": [
       "Index(['Energie', 'Fett', 'FS', 'Kohlenhydrate', 'Zucker', 'Eiweiss', 'Salz'], dtype='object')"
      ]
     },
     "execution_count": 3,
     "metadata": {},
     "output_type": "execute_result"
    }
   ],
   "source": [
    "attribute = daten.columns.drop('Name').drop('Label')\n",
    "attribute"
   ]
  },
  {
   "cell_type": "markdown",
   "id": "76e8f54b",
   "metadata": {},
   "source": [
    "### Erstelle Baum"
   ]
  },
  {
   "cell_type": "code",
   "execution_count": 4,
   "id": "0254ca20",
   "metadata": {},
   "outputs": [
    {
     "data": {
      "image/png": "[encoded data removed]",
      "text/plain": [
       "<Figure size 640x480 with 1 Axes>"
      ]
     },
     "metadata": {},
     "output_type": "display_data"
    }
   ],
   "source": [
    "import sklearn.tree\n",
    "import matplotlib\n",
    "baum = sklearn.tree.DecisionTreeClassifier( random_state=0, max_depth=5)\n",
    "baum.fit( daten[attribute], daten[\"Label\"] )\n",
    "sklearn.tree.plot_tree( baum, feature_names=attribute, label=None, \n",
    "                        filled=True,\n",
    "                        class_names=[\"ungesund\",\"gesund\"], impurity=False,\n",
    "                        proportion=False, fontsize=8 )\n",
    "matplotlib.pyplot.show()"
   ]
  },
  {
   "cell_type": "markdown",
   "id": "5e511c2c",
   "metadata": {},
   "source": [
    "### Wichtigkeit der Attribute für den Baum\n"
   ]
  },
  {
   "cell_type": "code",
   "execution_count": 5,
   "id": "514342ad",
   "metadata": {
    "scrolled": true
   },
   "outputs": [
    {
     "data": {
      "text/plain": [
       "Index(['Energie', 'Fett', 'FS', 'Kohlenhydrate', 'Zucker', 'Eiweiss', 'Salz'], dtype='object')"
      ]
     },
     "execution_count": 5,
     "metadata": {},
     "output_type": "execute_result"
    }
   ],
   "source": [
    "attribute"
   ]
  },
  {
   "cell_type": "code",
   "execution_count": 6,
   "id": "3edc3901",
   "metadata": {},
   "outputs": [
    {
     "data": {
      "text/plain": [
       "array([0.13254438, 0.52284024, 0.        , 0.        , 0.34461538,\n",
       "       0.        , 0.        ])"
      ]
     },
     "execution_count": 6,
     "metadata": {},
     "output_type": "execute_result"
    }
   ],
   "source": [
    "baum.feature_importances_"
   ]
  },
  {
   "cell_type": "code",
   "execution_count": 7,
   "id": "4ee2e95c",
   "metadata": {},
   "outputs": [
    {
     "data": {
      "image/png": "[encoded data removed]",
      "text/plain": [
       "<Figure size 800x100 with 1 Axes>"
      ]
     },
     "metadata": {},
     "output_type": "display_data"
    }
   ],
   "source": [
    "import matplotlib.pyplot as plt\n",
    "import numpy as np\n",
    "index = np.arange(len(attribute))\n",
    "bar_width = 0.9\n",
    "fig = plt.figure()\n",
    "plt.bar(index, baum.feature_importances_, bar_width,  color=\"green\")\n",
    "plt.xticks(index, attribute) # labels get centered\n",
    "fig.set_figheight(1)\n",
    "fig.set_figwidth(8)\n",
    "plt.show()"
   ]
  },
  {
   "cell_type": "markdown",
   "id": "321e9ca0",
   "metadata": {},
   "source": [
    "# Wähle wichtige Attribute für das Training"
   ]
  },
  {
   "cell_type": "code",
   "execution_count": 8,
   "id": "21fc4910",
   "metadata": {},
   "outputs": [],
   "source": [
    "attribute = ['Fett','Zucker', 'Energie']"
   ]
  },
  {
   "cell_type": "markdown",
   "id": "15c345b3",
   "metadata": {},
   "source": [
    "# Split in Traings- und Testdaten"
   ]
  },
  {
   "cell_type": "code",
   "execution_count": 9,
   "id": "08016342",
   "metadata": {},
   "outputs": [
    {
     "data": {
      "text/plain": [
       "28"
      ]
     },
     "execution_count": 9,
     "metadata": {},
     "output_type": "execute_result"
    }
   ],
   "source": [
    "len(daten)"
   ]
  },
  {
   "cell_type": "code",
   "execution_count": 10,
   "id": "87c6d08e",
   "metadata": {},
   "outputs": [],
   "source": [
    "anzahl_training = 20"
   ]
  },
  {
   "cell_type": "code",
   "execution_count": 11,
   "id": "da5eda24",
   "metadata": {},
   "outputs": [
    {
     "name": "stdout",
     "output_type": "stream",
     "text": [
      "[0, 26, 5, 7, 15, 6, 8, 17, 12, 14, 21, 3, 9, 11, 1, 16, 2, 27, 4, 10, 18, 24, 19, 22, 20, 13, 23, 25]\n"
     ]
    }
   ],
   "source": [
    "import random\n",
    "rand_ind = list(range(len(daten)))\n",
    "random.shuffle( rand_ind )\n",
    "print( rand_ind )"
   ]
  },
  {
   "cell_type": "code",
   "execution_count": 12,
   "id": "4469e7ce",
   "metadata": {},
   "outputs": [],
   "source": [
    "training_ind = rand_ind[0:anzahl_training]\n",
    "test_ind     = rand_ind[anzahl_training:28]\n",
    "daten_training = daten.loc[training_ind] \n",
    "daten_test     = daten.loc[test_ind] "
   ]
  },
  {
   "cell_type": "code",
   "execution_count": 13,
   "id": "c67b42ef",
   "metadata": {
    "scrolled": false
   },
   "outputs": [
    {
     "data": {
      "image/png": "[encoded data removed]",
      "text/plain": [
       "<Figure size 640x480 with 1 Axes>"
      ]
     },
     "metadata": {},
     "output_type": "display_data"
    }
   ],
   "source": [
    "baum = sklearn.tree.DecisionTreeClassifier( random_state=0, max_depth=3)\n",
    "baum.fit( daten_training[attribute], daten_training['Label'] )\n",
    "sklearn.tree.plot_tree( baum, feature_names=attribute, label=None, \n",
    "                        filled=True,\n",
    "                        class_names=[\"ungesund\",\"gesund\"], impurity=False,\n",
    "                        proportion=False, fontsize=8 )\n",
    "matplotlib.pyplot.show()"
   ]
  },
  {
   "cell_type": "markdown",
   "id": "11411f9c",
   "metadata": {},
   "source": [
    "# Berechne Klassifikation der Testdaten"
   ]
  },
  {
   "cell_type": "code",
   "execution_count": 14,
   "id": "cd6e18bd",
   "metadata": {},
   "outputs": [
    {
     "data": {
      "text/plain": [
       "array([1, 0, 0, 1, 0, 0, 0, 0])"
      ]
     },
     "execution_count": 14,
     "metadata": {},
     "output_type": "execute_result"
    }
   ],
   "source": [
    "pred = baum.predict( daten_test[attribute] )\n",
    "pred"
   ]
  },
  {
   "cell_type": "code",
   "execution_count": 15,
   "id": "564d2f8f",
   "metadata": {},
   "outputs": [
    {
     "data": {
      "text/plain": [
       "array([1, 0, 0, 1, 0, 0, 0, 1])"
      ]
     },
     "execution_count": 15,
     "metadata": {},
     "output_type": "execute_result"
    }
   ],
   "source": [
    "import numpy as np\n",
    "np.array( daten_test['Label'] )"
   ]
  },
  {
   "cell_type": "code",
   "execution_count": 16,
   "id": "4b0ca5f1",
   "metadata": {},
   "outputs": [
    {
     "data": {
      "text/plain": [
       "array([ True,  True,  True,  True,  True,  True,  True, False])"
      ]
     },
     "execution_count": 16,
     "metadata": {},
     "output_type": "execute_result"
    }
   ],
   "source": [
    "pred == np.array( daten_test['Label'] )"
   ]
  },
  {
   "cell_type": "code",
   "execution_count": 17,
   "id": "0111eb23",
   "metadata": {},
   "outputs": [
    {
     "data": {
      "text/plain": [
       "7"
      ]
     },
     "execution_count": 17,
     "metadata": {},
     "output_type": "execute_result"
    }
   ],
   "source": [
    "np.count_nonzero( (pred == np.array( daten_test['Label'])) == True )"
   ]
  },
  {
   "cell_type": "code",
   "execution_count": 18,
   "id": "487466ce",
   "metadata": {},
   "outputs": [
    {
     "name": "stdout",
     "output_type": "stream",
     "text": [
      "falsch klassifiziert:  25 Putenbrustfilet (gebraten)\n",
      "Anzahl  korrekt klassifiziert:  7\n",
      "Prozent korrekt klassifiziert:  87.5 %\n",
      "Anzahl  falsch klassifiziert:  1\n",
      "Prozent falsch klassifiziert:  12.5 %\n"
     ]
    }
   ],
   "source": [
    "categorized_correct = 0\n",
    "for i in daten_test.index:\n",
    "    if( baum.predict(daten_test.loc[[i]][attribute]) == (daten_test.loc[i]['Label']) ):\n",
    "        categorized_correct += 1\n",
    "    else:\n",
    "        print(\"falsch klassifiziert: \", i, daten_test.loc[i]['Name'])\n",
    "print( \"Anzahl  korrekt klassifiziert: \", categorized_correct )    \n",
    "print( \"Prozent korrekt klassifiziert: \", categorized_correct/len(daten_test)*100, \"%\")\n",
    "print( \"Anzahl  falsch klassifiziert: \", len(daten_test) - categorized_correct )    \n",
    "print( \"Prozent falsch klassifiziert: \", (len(daten_test) - categorized_correct)/len(daten_test)*100, \"%\")"
   ]
  },
  {
   "cell_type": "code",
   "execution_count": null,
   "id": "be1085c6",
   "metadata": {},
   "outputs": [],
   "source": []
  }
 ],
 "metadata": {
  "kernelspec": {
   "display_name": "Python 3 (ipykernel)",
   "language": "python",
   "name": "python3"
  },
  "language_info": {
   "codemirror_mode": {
    "name": "ipython",
    "version": 3
   },
   "file_extension": ".py",
   "mimetype": "text/x-python",
   "name": "python",
   "nbconvert_exporter": "python",
   "pygments_lexer": "ipython3",
   "version": "3.11.6"
  }
 },
 "nbformat": 4,
 "nbformat_minor": 5
}
