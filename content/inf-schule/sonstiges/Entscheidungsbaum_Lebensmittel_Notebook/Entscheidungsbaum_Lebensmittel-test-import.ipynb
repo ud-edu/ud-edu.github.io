{
 "cells": [
  {
   "cell_type": "markdown",
   "metadata": {},
   "source": [
    "# Daten und Entscheidungsbäume - So macht das ein Computer"
   ]
  },
  {
   "cell_type": "code",
   "execution_count": null,
   "metadata": {},
   "outputs": [],
   "source": [
    "import micropip\n",
    "await micropip.install('ipywidgets')"
   ]
  },
  {
   "cell_type": "code",
   "execution_count": null,
   "metadata": {},
   "outputs": [],
   "source": [
    "%pip install -q ipywidgets"
   ]
  },
  {
   "cell_type": "code",
   "execution_count": null,
   "metadata": {},
   "outputs": [],
   "source": [
    "%pip install -q graphviz"
   ]
  },
  {
   "cell_type": "code",
   "execution_count": null,
   "metadata": {},
   "outputs": [],
   "source": []
  },
  {
   "cell_type": "code",
   "execution_count": 1,
   "metadata": {
    "hideCode": true,
    "hidePrompt": true,
    "hide_input": true
   },
   "outputs": [
    {
     "ename": "ModuleNotFoundError",
     "evalue": "No module named 'graphviz'",
     "output_type": "error",
     "traceback": [
      "\u001b[0;31m---------------------------------------------------------------------------\u001b[0m",
      "\u001b[0;31mModuleNotFoundError\u001b[0m                       Traceback (most recent call last)",
      "Cell \u001b[0;32mIn[1], line 2\u001b[0m\n\u001b[1;32m      1\u001b[0m \u001b[38;5;66;03m#from dectrees_interactive_tools import ClassificationTree as ct\u001b[39;00m\n\u001b[0;32m----> 2\u001b[0m \u001b[38;5;28;01mfrom\u001b[39;00m \u001b[38;5;21;01mPyTree\u001b[39;00m \u001b[38;5;28;01mimport\u001b[39;00m ClassificationTree \u001b[38;5;28;01mas\u001b[39;00m ct\n\u001b[1;32m      4\u001b[0m \u001b[38;5;28;01mimport\u001b[39;00m \u001b[38;5;21;01mpandas\u001b[39;00m \u001b[38;5;28;01mas\u001b[39;00m \u001b[38;5;21;01mpd\u001b[39;00m\n\u001b[1;32m      5\u001b[0m \u001b[38;5;28;01mimport\u001b[39;00m \u001b[38;5;21;01mnumpy\u001b[39;00m \u001b[38;5;28;01mas\u001b[39;00m \u001b[38;5;21;01mnp\u001b[39;00m\n",
      "File \u001b[0;32m~/CloudStation/inf-schule/ud-edu.github.io/content/inf-schule/sonstiges/Entscheidungsbaum_Lebensmittel_Notebook/PyTree/ClassificationTree.py:5\u001b[0m\n\u001b[1;32m      3\u001b[0m \u001b[38;5;28;01mfrom\u001b[39;00m \u001b[38;5;21;01mrandom\u001b[39;00m \u001b[38;5;28;01mimport\u001b[39;00m shuffle\n\u001b[1;32m      4\u001b[0m \u001b[38;5;28;01mfrom\u001b[39;00m \u001b[38;5;21;01mmath\u001b[39;00m \u001b[38;5;28;01mimport\u001b[39;00m log\n\u001b[0;32m----> 5\u001b[0m \u001b[38;5;28;01mfrom\u001b[39;00m \u001b[38;5;21;01mgraphviz\u001b[39;00m \u001b[38;5;28;01mimport\u001b[39;00m Digraph\n\u001b[1;32m      6\u001b[0m styles \u001b[38;5;241m=\u001b[39m {\n\u001b[1;32m      7\u001b[0m     \u001b[38;5;124m'\u001b[39m\u001b[38;5;124mleaf\u001b[39m\u001b[38;5;124m'\u001b[39m: {\u001b[38;5;124m'\u001b[39m\u001b[38;5;124mshape\u001b[39m\u001b[38;5;124m'\u001b[39m: \u001b[38;5;124m'\u001b[39m\u001b[38;5;124mrecord\u001b[39m\u001b[38;5;124m'\u001b[39m, \u001b[38;5;124m'\u001b[39m\u001b[38;5;124mstyle\u001b[39m\u001b[38;5;124m'\u001b[39m: \u001b[38;5;124m'\u001b[39m\u001b[38;5;124mfilled\u001b[39m\u001b[38;5;124m'\u001b[39m, \u001b[38;5;124m'\u001b[39m\u001b[38;5;124mcolor\u001b[39m\u001b[38;5;124m'\u001b[39m: \u001b[38;5;124m'\u001b[39m\u001b[38;5;124myellow\u001b[39m\u001b[38;5;124m'\u001b[39m},\n\u001b[1;32m      8\u001b[0m     \u001b[38;5;124m'\u001b[39m\u001b[38;5;124mcrit\u001b[39m\u001b[38;5;124m'\u001b[39m: {\u001b[38;5;124m'\u001b[39m\u001b[38;5;124mshape\u001b[39m\u001b[38;5;124m'\u001b[39m: \u001b[38;5;124m'\u001b[39m\u001b[38;5;124mrecord\u001b[39m\u001b[38;5;124m'\u001b[39m},\n\u001b[1;32m      9\u001b[0m }\n\u001b[1;32m     12\u001b[0m \u001b[38;5;28;01mclass\u001b[39;00m \u001b[38;5;21;01msplit\u001b[39;00m:\n\u001b[1;32m     13\u001b[0m     \u001b[38;5;66;03m#Initialisierung des Splits\u001b[39;00m\n",
      "\u001b[0;31mModuleNotFoundError\u001b[0m: No module named 'graphviz'"
     ]
    }
   ],
   "source": [
    "#from dectrees_interactive_tools import ClassificationTree as ct\n",
    "from PyTree import ClassificationTree as ct\n",
    "\n",
    "import pandas as pd\n",
    "import numpy as np\n",
    "\n",
    "from ipywidgets import interact, interactive, fixed, interact_manual, Layout, HBox\n",
    "import ipywidgets as widgets\n"
   ]
  },
  {
   "cell_type": "markdown",
   "metadata": {},
   "source": [
    "<div class=\"panel panel-success\">\n",
    "    <div class=\"panel-heading\">\n",
    "        <b> Erklärungstext - Von Datenkarten zu Datentabellen im Computer</b>\n",
    "    </div>\n",
    "    <div class=\"panel-body\">\n",
    "Der Computer arbeitet mit Datentabellen statt mit Datenkarten. Alle Informationen der Karten befinden sich in einer einzigen Tabelle. <p><p>\n",
    "        Unten siehst Du den Apfel und das Popcorn als Datenarte und darunter als Datentabelle.\n",
    "        <p><p>\n",
    "        Die Daten der Tabelle muss ein Mensch eintragen, damit der Computer damit weiterarbeiten kann.\n",
    "\n",
    "</div> "
   ]
  },
  {
   "cell_type": "markdown",
   "metadata": {},
   "source": [
    "<td> \n",
    "    <img src=\"Bilder\\Apfel.png\" alt=\"Drawing\" style=\"width: 300px; float: left;\"  hspace=40 /> \n",
    "    <img src=\"Bilder\\Popcorn.png\" alt=\"Drawing\" style=\"width: 300px; float: left;\" hspace=40/>\n",
    "</td>\n"
   ]
  },
  {
   "cell_type": "markdown",
   "metadata": {},
   "source": [
    "<td> \n",
    "    <img src=\"Bilder\\Datentabelle.png\" alt=\"Drawing\" style=\"width: 530px; float: left;\"  hspace=40 /> \n",
    "</td>\n"
   ]
  },
  {
   "cell_type": "markdown",
   "metadata": {},
   "source": [
    "<div class=\"panel panel-info\">\n",
    "    <div class=\"panel-heading\">\n",
    "        <b>Aufgabe - Wie lauten die richtigen Angaben?</b>\n",
    "    </div>\n",
    "    <div class=\"panel-body\">\n",
    "Leider ist beim Übertragen der Daten in die Tabelle etwas schief gelaufen. Ein Wert wurde falsch eingetragen. Findest du heraus, welcher Wert das ist? \n",
    "       <p><p> \n",
    "        Schaue dir die Tabelle und die Datenkarten genau an und vergleiche.\n",
    " \n",
    "<p><p>\n",
    "        Wähle unten aus, bei welchem Lebensmittel und welchem Merkmal der Fehler passiert ist!\n",
    "    </div> \n",
    "</div>"
   ]
  },
  {
   "cell_type": "code",
   "execution_count": 2,
   "metadata": {
    "hideCode": true,
    "hidePrompt": true,
    "hide_input": true
   },
   "outputs": [
    {
     "name": "stderr",
     "output_type": "stream",
     "text": [
      "Widget Javascript not detected.  It may not be installed or enabled properly. Reconnecting the current kernel may help.\n"
     ]
    },
    {
     "data": {
      "application/vnd.jupyter.widget-view+json": {
       "model_id": "b8a745f960af4451a6e1d0dd7b724d15"
      }
     },
     "metadata": {},
     "output_type": "display_data"
    }
   ],
   "source": [
    "def antwort(Lebensmittel, Merkmal):\n",
    "    \n",
    "    if (Lebensmittel == 'Apfel') & (Merkmal == 'Eiweiß'):\n",
    "        print('Gut gemacht!')\n",
    "    else:\n",
    "        print('Leider falsch, probier es noch einmal!')\n",
    "\n",
    "antwort_widget = interactive(antwort,{'manual': True, 'manual_name': 'Antwort überprüfen'}, Lebensmittel = ['Apfel', 'Popcorn'], Merkmal = ['Energie', 'Fett', 'gesättigte Fettsäuren', 'Kohlenhydrate', 'Zucker', 'Eiweiß', 'Salz']) \n",
    "display(antwort_widget)\n"
   ]
  },
  {
   "cell_type": "markdown",
   "metadata": {
    "hide_input": true
   },
   "source": [
    "# Daten importieren"
   ]
  },
  {
   "cell_type": "markdown",
   "metadata": {
    "hide_input": true
   },
   "source": [
    "<div class=\"panel panel-success\">\n",
    "    <div class=\"panel-heading\">\n",
    "        <b> Eklärungstext - Daten importieren </b>\n",
    "    </div>\n",
    "    <div class=\"panel-body\">\n",
    "Den kompletten Datensatz ohne Fehler kannst du jetzt importieren, indem du auf \"Lade Daten\" klickst. \n",
    "     </div> "
   ]
  },
  {
   "cell_type": "code",
   "execution_count": 3,
   "metadata": {
    "hideCode": true,
    "hidePrompt": true,
    "hide_input": true
   },
   "outputs": [
    {
     "name": "stderr",
     "output_type": "stream",
     "text": [
      "Widget Javascript not detected.  It may not be installed or enabled properly. Reconnecting the current kernel may help.\n"
     ]
    },
    {
     "data": {
      "application/vnd.jupyter.widget-view+json": {
       "model_id": "9650a68cb6a14521b20a16535d4818c5"
      }
     },
     "metadata": {},
     "output_type": "display_data"
    }
   ],
   "source": [
    "df_lebensmittel = pd.read_csv('Daten/Trainingsdaten.csv', sep = ';').set_index('Name')\n",
    "\n",
    "def read_csv():\n",
    "    display(df_lebensmittel)\n",
    "\n",
    "daten_widget = interactive(read_csv,{'manual': True, 'manual_name': 'Lade Daten'}) \n",
    "display(daten_widget)\n"
   ]
  },
  {
   "cell_type": "markdown",
   "metadata": {},
   "source": [
    "# Daten labeln"
   ]
  },
  {
   "cell_type": "markdown",
   "metadata": {},
   "source": [
    "<div class=\"panel panel-success\">\n",
    "    <div class=\"panel-heading\">\n",
    "        <b> Eklärungtext - Was ist eher empfehlenswert und was eher nicht? </b>\n",
    "    </div>\n",
    "    <div class=\"panel-body\">\n",
    "Der Computer \"weiß\" noch nicht, welches Lebensmittel \"eher empfehlenswert\" und welches \"eher nicht empfehlenswert\" ist. Das musst Du ihm jetzt beibringen.<p><p>\n",
    "        Im Unterricht hast Du dazu farbige Büroklammern an die Karten geheftet. Für den Computer muss es in die Datentabelle geschrieben werden.\n",
    "</div> \n"
   ]
  },
  {
   "cell_type": "markdown",
   "metadata": {},
   "source": [
    "<td> \n",
    "    <img src=\"Bilder\\Apfel_label.png\" alt=\"Drawing\" style=\"width: 300px; float: left;\"  hspace=40 /> \n",
    "    <img src=\"Bilder\\Popcorn_label.png\" alt=\"Drawing\" style=\"width: 300px; float: left;\" hspace=40/>\n",
    "</td>\n"
   ]
  },
  {
   "cell_type": "markdown",
   "metadata": {},
   "source": [
    "<div class=\"panel panel-info\">\n",
    "    <div class=\"panel-heading\">\n",
    "        <b>Aufgabe - Die Datentabelle ergänzen</b>\n",
    "    </div>\n",
    "    <div class=\"panel-body\">\n",
    " Wähle für jedes Lebensmittel aus, ob der Computer es als <b>\"eher empfehlenswert\"</b> oder als <b>\"eher nicht empfehlenswert\"</b> labeln soll. Du kannst es auch <b>\"beiseite legen\"</b>, dann wird es aus der Datentabelle gelöscht.\n",
    "        <p><p>\n",
    "        Am Ende siehst Du, dass die Datentabelle eine weitere Spalte \"Label\" hat.\n",
    "    </div> \n",
    "</div>"
   ]
  },
  {
   "cell_type": "code",
   "execution_count": 4,
   "metadata": {
    "hideCode": true,
    "hidePrompt": true,
    "hide_input": false,
    "scrolled": false
   },
   "outputs": [],
   "source": [
    "def label_data(Apfel, Banane, Haselnussschnitte, Chips, Pommes, Nudeln, Erbsen, Eisbergsalat, Frikadelle, \n",
    "               Brotscheibe, Popcorn, Vanilleeis, Marmorkuchen, ChickenNuggets, Erdbeerjoghurt, Salatgurke, \n",
    "               Brokkoli, Schokomüsli, Waffel, Kartoffel, Vollmilchschokolade, Mayonaise, Putenbrustfilet, \n",
    "               Avocado, Gummibärchen, Knäckebrot, Haferflocken, Himbeermarmelade, Salzstangen, Räucherlachs, \n",
    "               Spiegelei, Zwieback, Salamischeibe, Bratwurst, Butter, Senf, Walnüsse, Datteln, Champignons, \n",
    "               SchwarzwälderSchinken):\n",
    "    \n",
    "    df = daten_widget.result\n",
    "    df['Etikett'] = [Apfel, Banane, Haselnussschnitte, Chips, Pommes, Nudeln, Erbsen, Eisbergsalat, Frikadelle, \n",
    "               Brotscheibe, Popcorn, Vanilleeis, Marmorkuchen, ChickenNuggets, Erdbeerjoghurt, Salatgurke, \n",
    "               Brokkoli, Schokomüsli, Waffel, Kartoffel, Vollmilchschokolade, Mayonaise, Putenbrustfilet, \n",
    "               Avocado, Gummibärchen, Knäckebrot, Haferflocken, Himbeermarmelade, Salzstangen, Räucherlachs, \n",
    "               Spiegelei, Zwieback, Salamischeibe, Bratwurst, Butter, Senf, Walnüsse, Datteln, Champignons, \n",
    "               SchwarzwälderSchinken]\n",
    "    \n",
    "    \n",
    "    return Apfel\n",
    "    \n",
    "label_widget = interactive(label_data,{'manual': True, 'manual_name': 'Label festlegen'}, \n",
    "                            Apfel = ['beiseite legen', 'eher empf.', 'eher nicht empf.'],\n",
    "                            Banane = ['beiseite legen', 'eher empf.', 'eher nicht empf.'],\n",
    "                            Haselnussschnitte = ['beiseite legen', 'eher empf.', 'eher nicht empf.'],\n",
    "                            Chips = ['beiseite legen', 'eher empf.', 'eher nicht empf.'],\n",
    "                            Pommes = ['beiseite legen', 'eher empf.', 'eher nicht empf.'],\n",
    "                            Nudeln = ['beiseite legen', 'eher empf.', 'eher nicht empf.'],\n",
    "                            Erbsen = ['beiseite legen', 'eher empf.', 'eher nicht empf.'],\n",
    "                            Eisbergsalat = ['beiseite legen', 'eher empf.', 'eher nicht empf.'],\n",
    "                            Frikadelle = ['beiseite legen', 'eher empf.', 'eher nicht empf.'],\n",
    "                            Brotscheibe = ['beiseite legen', 'eher empf.', 'eher nicht empf.'],\n",
    "                            Popcorn = ['beiseite legen', 'eher empf.', 'eher nicht empf.'],\n",
    "                            Vanilleeis = ['beiseite legen', 'eher empf.', 'eher nicht empf.'],\n",
    "                            Marmorkuchen = ['beiseite legen', 'eher empf.', 'eher nicht empf.'],\n",
    "                            ChickenNuggets = ['beiseite legen', 'eher empf.', 'eher nicht empf.'],\n",
    "                            Erdbeerjoghurt = ['beiseite legen', 'eher empf.', 'eher nicht empf.'],\n",
    "                            Salatgurke = ['beiseite legen', 'eher empf.', 'eher nicht empf.'],\n",
    "                            Brokkoli = ['beiseite legen', 'eher empf.', 'eher nicht empf.'],\n",
    "                            Schokomüsli = ['beiseite legen', 'eher empf.', 'eher nicht empf.'],\n",
    "                            Waffel = ['beiseite legen', 'eher empf.', 'eher nicht empf.'],\n",
    "                            Kartoffel = ['beiseite legen', 'eher empf.', 'eher nicht empf.'],\n",
    "                            Vollmilchschokolade = ['beiseite legen', 'eher empf.', 'eher nicht empf.'],\n",
    "                            Mayonaise = ['beiseite legen', 'eher empf.', 'eher nicht empf.'],\n",
    "                            Putenbrustfilet = ['beiseite legen', 'eher empf.', 'eher nicht empf.'],\n",
    "                            Avocado = ['beiseite legen', 'eher empf.', 'eher nicht empf.'],\n",
    "                            Gummibärchen = ['beiseite legen', 'eher empf.', 'eher nicht empf.'],\n",
    "                            Knäckebrot = ['beiseite legen', 'eher empf.', 'eher nicht empf.'],\n",
    "                            Haferflocken = ['beiseite legen', 'eher empf.', 'eher nicht empf.'],\n",
    "                            Himbeermarmelade = ['beiseite legen', 'eher empf.', 'eher nicht empf.'],\n",
    "                            Salzstangen = ['beiseite legen', 'eher empf.', 'eher nicht empf.'],\n",
    "                            Räucherlachs = ['beiseite legen', 'eher empf.', 'eher nicht empf.'],\n",
    "                            Spiegelei = ['beiseite legen', 'eher empf.', 'eher nicht empf.'],\n",
    "                            Zwieback = ['beiseite legen', 'eher empf.', 'eher nicht empf.'],\n",
    "                            Salamischeibe = ['beiseite legen', 'eher empf.', 'eher nicht empf.'],\n",
    "                            Bratwurst = ['beiseite legen', 'eher empf.', 'eher nicht empf.'],\n",
    "                            Butter = ['beiseite legen', 'eher empf.', 'eher nicht empf.'],\n",
    "                            Senf = ['beiseite legen', 'eher empf.', 'eher nicht empf.'],\n",
    "                            Walnüsse = ['beiseite legen', 'eher empf.', 'eher nicht empf.'],\n",
    "                            Datteln = ['beiseite legen', 'eher empf.', 'eher nicht empf.'],\n",
    "                            Champignons = ['beiseite legen', 'eher empf.', 'eher nicht empf.'],\n",
    "                            SchwarzwälderSchinken = ['beiseite legen', 'eher empf.', 'eher nicht empf.'])\n",
    "\n",
    "#label_widget"
   ]
  },
  {
   "cell_type": "code",
   "execution_count": 5,
   "metadata": {
    "hideCode": true,
    "hidePrompt": true,
    "hide_input": false
   },
   "outputs": [],
   "source": [
    "liste= ['Apfel', 'Banane', 'Haselnussschnitte', 'Chips', 'Pommes', 'Nudeln', 'Erbsen', 'Eisbergsalat', 'Frikadelle',\n",
    "               'Brotscheibe', 'Popcorn', 'Vanilleeis', 'Marmorkuchen', 'Chicken Nuggets', 'Erdbeerjoghurt', 'Salatgurke',\n",
    "               'Brokkoli', 'Schokomüsli', 'Waffel', 'Kartoffel', 'Vollmilchschokolade', 'Mayonaise', 'Putenbrustfilet',\n",
    "               'Avocado', 'Gummibärchen', 'Knäckebrot', 'Haferflocken', 'Himbeermarmelade', 'Salzstangen', 'Räucherlachs',\n",
    "               'Spiegelei', 'Zwieback', 'Salamischeibe', 'Bratwurst', 'Butter', 'Senf', 'Walnüsse', 'Datteln', 'Champignons',\n",
    "               'Schwarzwälder Schinken']\n",
    "results=[]\n",
    "for i in liste:\n",
    "    results.append('beiseite legen')"
   ]
  },
  {
   "cell_type": "code",
   "execution_count": 6,
   "metadata": {
    "code_folding": [],
    "hideCode": true,
    "hidePrompt": true,
    "hide_input": false
   },
   "outputs": [],
   "source": [
    "import ipywidgets as widgets\n",
    "import numpy\n",
    "\n",
    "\n",
    "\n",
    "def radiobuttons(name, index, option1, option2, option3):\n",
    "    \n",
    "    output_radio_selected = widgets.Text()\n",
    "    radio1 = widgets.RadioButtons(options=[option1])\n",
    "    radio2 = widgets.RadioButtons(options=[option2])\n",
    "    radio3 = widgets.RadioButtons(options=[option3])\n",
    "    selected_option = None\n",
    "\n",
    "    radio1.index = None\n",
    "    radio2.index = None\n",
    "    radio3.index = None\n",
    "\n",
    "\n",
    "    def radio1_observer(sender):\n",
    "\n",
    "\n",
    "        radio2.unobserve(radio2_observer, names=['value'])\n",
    "        radio2.index = None\n",
    "\n",
    "\n",
    "        radio3.unobserve(radio3_observer, names=['value'])\n",
    "        radio3.index = None\n",
    "\n",
    "\n",
    "        global selected_option1\n",
    "        output_radio_selected.value = radio1.value\n",
    "        selected_option1 = output_radio_selected.value\n",
    "        selected_option = selected_option1\n",
    "        #print(name + ' selected option set to: ' + selected_option)\n",
    "        results[index] = selected_option\n",
    "        \n",
    "        radio2.observe(radio2_observer, names=['value'])\n",
    "        radio3.observe(radio3_observer, names=['value'])\n",
    "\n",
    "\n",
    "\n",
    "    def radio2_observer(sender):\n",
    "        radio1.unobserve(radio1_observer, names=['value'])\n",
    "        radio1.index = None\n",
    "\n",
    "\n",
    "        radio3.unobserve(radio3_observer, names=['value'])\n",
    "        radio3.index = None\n",
    "\n",
    "\n",
    "        global selected_option2\n",
    "        output_radio_selected.value = radio2.value\n",
    "        selected_option2 = output_radio_selected.value\n",
    "        selected_option = selected_option2\n",
    "        #print(name + ' selected option set to: ' + selected_option)\n",
    "        results[index] = selected_option\n",
    "        \n",
    "        radio1.observe(radio1_observer, names=['value'])\n",
    "        radio3.observe(radio3_observer, names=['value'])\n",
    "  \n",
    "\n",
    "\n",
    "    def radio3_observer(sender):\n",
    "        radio1.unobserve(radio1_observer, names=['value'])\n",
    "        radio1.index = None\n",
    "\n",
    "\n",
    "        radio2.unobserve(radio2_observer, names=['value'])\n",
    "        radio2.index = None\n",
    "\n",
    "\n",
    "        global selected_option3\n",
    "        output_radio_selected.value = radio3.value\n",
    "        selected_option3 = output_radio_selected.value\n",
    "        selected_option = selected_option3\n",
    "        #print(name + ' selected option set to: ' + selected_option)\n",
    "        results[index] = selected_option\n",
    "        \n",
    "        radio1.observe(radio1_observer, names=['value'])\n",
    "        radio2.observe(radio2_observer, names=['value'])\n",
    "\n",
    "\n",
    "    radio1.observe(radio1_observer, names=['value'])\n",
    "    radio2.observe(radio2_observer, names=['value'])\n",
    "    radio3.observe(radio3_observer, names=['value'])\n",
    "    \n",
    "   \n",
    "\n",
    "\n",
    "    label = widgets.Label(name, layout={'width': '170px'})\n",
    "    \n",
    "    return [widgets.HBox([label, radio1, radio2, radio3]), selected_option]\n"
   ]
  },
  {
   "cell_type": "code",
   "execution_count": 7,
   "metadata": {
    "hideCode": true,
    "hidePrompt": true,
    "hide_input": false,
    "scrolled": false
   },
   "outputs": [
    {
     "name": "stderr",
     "output_type": "stream",
     "text": [
      "Widget Javascript not detected.  It may not be installed or enabled properly. Reconnecting the current kernel may help.\n"
     ]
    },
    {
     "data": {
      "application/vnd.jupyter.widget-view+json": {
       "model_id": "22d68e61297a48e1805149f3051759fe"
      }
     },
     "metadata": {},
     "output_type": "display_data"
    },
    {
     "name": "stderr",
     "output_type": "stream",
     "text": [
      "Widget Javascript not detected.  It may not be installed or enabled properly. Reconnecting the current kernel may help.\n"
     ]
    },
    {
     "data": {
      "application/vnd.jupyter.widget-view+json": {
       "model_id": "ef09f8ab898547c0abb97728572ff072"
      }
     },
     "metadata": {},
     "output_type": "display_data"
    },
    {
     "name": "stderr",
     "output_type": "stream",
     "text": [
      "Widget Javascript not detected.  It may not be installed or enabled properly. Reconnecting the current kernel may help.\n"
     ]
    },
    {
     "data": {
      "application/vnd.jupyter.widget-view+json": {
       "model_id": "05406f0f6dbb4fba9bf045ea72df3591"
      }
     },
     "metadata": {},
     "output_type": "display_data"
    },
    {
     "name": "stderr",
     "output_type": "stream",
     "text": [
      "Widget Javascript not detected.  It may not be installed or enabled properly. Reconnecting the current kernel may help.\n"
     ]
    },
    {
     "data": {
      "application/vnd.jupyter.widget-view+json": {
       "model_id": "56cd583bdaef4e079a4ed12fc552c0b9"
      }
     },
     "metadata": {},
     "output_type": "display_data"
    },
    {
     "name": "stderr",
     "output_type": "stream",
     "text": [
      "Widget Javascript not detected.  It may not be installed or enabled properly. Reconnecting the current kernel may help.\n"
     ]
    },
    {
     "data": {
      "application/vnd.jupyter.widget-view+json": {
       "model_id": "6bbb84cdbd314c0eadb113d87b9361c9"
      }
     },
     "metadata": {},
     "output_type": "display_data"
    },
    {
     "name": "stderr",
     "output_type": "stream",
     "text": [
      "Widget Javascript not detected.  It may not be installed or enabled properly. Reconnecting the current kernel may help.\n"
     ]
    },
    {
     "data": {
      "application/vnd.jupyter.widget-view+json": {
       "model_id": "e5cee7549bab4fa69bbe278ce1d7c90d"
      }
     },
     "metadata": {},
     "output_type": "display_data"
    },
    {
     "name": "stderr",
     "output_type": "stream",
     "text": [
      "Widget Javascript not detected.  It may not be installed or enabled properly. Reconnecting the current kernel may help.\n"
     ]
    },
    {
     "data": {
      "application/vnd.jupyter.widget-view+json": {
       "model_id": "7325dd29ac694d5bae9339e309f1e59f"
      }
     },
     "metadata": {},
     "output_type": "display_data"
    },
    {
     "name": "stderr",
     "output_type": "stream",
     "text": [
      "Widget Javascript not detected.  It may not be installed or enabled properly. Reconnecting the current kernel may help.\n"
     ]
    },
    {
     "data": {
      "application/vnd.jupyter.widget-view+json": {
       "model_id": "a7be2ddc788f4ce78e12e0676edc084d"
      }
     },
     "metadata": {},
     "output_type": "display_data"
    },
    {
     "name": "stderr",
     "output_type": "stream",
     "text": [
      "Widget Javascript not detected.  It may not be installed or enabled properly. Reconnecting the current kernel may help.\n"
     ]
    },
    {
     "data": {
      "application/vnd.jupyter.widget-view+json": {
       "model_id": "fef73803cc694821b114264818f26132"
      }
     },
     "metadata": {},
     "output_type": "display_data"
    },
    {
     "name": "stderr",
     "output_type": "stream",
     "text": [
      "Widget Javascript not detected.  It may not be installed or enabled properly. Reconnecting the current kernel may help.\n"
     ]
    },
    {
     "data": {
      "application/vnd.jupyter.widget-view+json": {
       "model_id": "bb22c8fbe50a46d18c7bd5b5103603f2"
      }
     },
     "metadata": {},
     "output_type": "display_data"
    },
    {
     "name": "stderr",
     "output_type": "stream",
     "text": [
      "Widget Javascript not detected.  It may not be installed or enabled properly. Reconnecting the current kernel may help.\n"
     ]
    },
    {
     "data": {
      "application/vnd.jupyter.widget-view+json": {
       "model_id": "5e343b536752402aa97e9e11c9d4b226"
      }
     },
     "metadata": {},
     "output_type": "display_data"
    },
    {
     "name": "stderr",
     "output_type": "stream",
     "text": [
      "Widget Javascript not detected.  It may not be installed or enabled properly. Reconnecting the current kernel may help.\n"
     ]
    },
    {
     "data": {
      "application/vnd.jupyter.widget-view+json": {
       "model_id": "c0978706a5d3440aae19b643be8f44ee"
      }
     },
     "metadata": {},
     "output_type": "display_data"
    },
    {
     "name": "stderr",
     "output_type": "stream",
     "text": [
      "Widget Javascript not detected.  It may not be installed or enabled properly. Reconnecting the current kernel may help.\n"
     ]
    },
    {
     "data": {
      "application/vnd.jupyter.widget-view+json": {
       "model_id": "a5904aa77d51480a8940e4bba8a155bb"
      }
     },
     "metadata": {},
     "output_type": "display_data"
    },
    {
     "name": "stderr",
     "output_type": "stream",
     "text": [
      "Widget Javascript not detected.  It may not be installed or enabled properly. Reconnecting the current kernel may help.\n"
     ]
    },
    {
     "data": {
      "application/vnd.jupyter.widget-view+json": {
       "model_id": "10c00460ce8a4404bd1f49006d99869f"
      }
     },
     "metadata": {},
     "output_type": "display_data"
    },
    {
     "name": "stderr",
     "output_type": "stream",
     "text": [
      "Widget Javascript not detected.  It may not be installed or enabled properly. Reconnecting the current kernel may help.\n"
     ]
    },
    {
     "data": {
      "application/vnd.jupyter.widget-view+json": {
       "model_id": "36e85d827f5446d3a9940ea03fa52fbd"
      }
     },
     "metadata": {},
     "output_type": "display_data"
    },
    {
     "name": "stderr",
     "output_type": "stream",
     "text": [
      "Widget Javascript not detected.  It may not be installed or enabled properly. Reconnecting the current kernel may help.\n"
     ]
    },
    {
     "data": {
      "application/vnd.jupyter.widget-view+json": {
       "model_id": "933d9936ce8a487796051f3c797657a6"
      }
     },
     "metadata": {},
     "output_type": "display_data"
    },
    {
     "name": "stderr",
     "output_type": "stream",
     "text": [
      "Widget Javascript not detected.  It may not be installed or enabled properly. Reconnecting the current kernel may help.\n"
     ]
    },
    {
     "data": {
      "application/vnd.jupyter.widget-view+json": {
       "model_id": "32dc975f699b44f9982d981b657152d2"
      }
     },
     "metadata": {},
     "output_type": "display_data"
    },
    {
     "name": "stderr",
     "output_type": "stream",
     "text": [
      "Widget Javascript not detected.  It may not be installed or enabled properly. Reconnecting the current kernel may help.\n"
     ]
    },
    {
     "data": {
      "application/vnd.jupyter.widget-view+json": {
       "model_id": "66b58225221c46cba6d66cd36aa4a89b"
      }
     },
     "metadata": {},
     "output_type": "display_data"
    },
    {
     "name": "stderr",
     "output_type": "stream",
     "text": [
      "Widget Javascript not detected.  It may not be installed or enabled properly. Reconnecting the current kernel may help.\n"
     ]
    },
    {
     "data": {
      "application/vnd.jupyter.widget-view+json": {
       "model_id": "816f9ebea1db44538cc775d2f82a605a"
      }
     },
     "metadata": {},
     "output_type": "display_data"
    },
    {
     "name": "stderr",
     "output_type": "stream",
     "text": [
      "Widget Javascript not detected.  It may not be installed or enabled properly. Reconnecting the current kernel may help.\n"
     ]
    },
    {
     "data": {
      "application/vnd.jupyter.widget-view+json": {
       "model_id": "37e3e6b6d4d240bc814de5676447751a"
      }
     },
     "metadata": {},
     "output_type": "display_data"
    },
    {
     "name": "stderr",
     "output_type": "stream",
     "text": [
      "Widget Javascript not detected.  It may not be installed or enabled properly. Reconnecting the current kernel may help.\n"
     ]
    },
    {
     "data": {
      "application/vnd.jupyter.widget-view+json": {
       "model_id": "40cb50783ada4a1bb019f3fb079b87b1"
      }
     },
     "metadata": {},
     "output_type": "display_data"
    },
    {
     "name": "stderr",
     "output_type": "stream",
     "text": [
      "Widget Javascript not detected.  It may not be installed or enabled properly. Reconnecting the current kernel may help.\n"
     ]
    },
    {
     "data": {
      "application/vnd.jupyter.widget-view+json": {
       "model_id": "10a2d6f0fe5747559e313d7742384049"
      }
     },
     "metadata": {},
     "output_type": "display_data"
    },
    {
     "name": "stderr",
     "output_type": "stream",
     "text": [
      "Widget Javascript not detected.  It may not be installed or enabled properly. Reconnecting the current kernel may help.\n"
     ]
    },
    {
     "data": {
      "application/vnd.jupyter.widget-view+json": {
       "model_id": "4471be4364344e96afe54befde48f047"
      }
     },
     "metadata": {},
     "output_type": "display_data"
    },
    {
     "name": "stderr",
     "output_type": "stream",
     "text": [
      "Widget Javascript not detected.  It may not be installed or enabled properly. Reconnecting the current kernel may help.\n"
     ]
    },
    {
     "data": {
      "application/vnd.jupyter.widget-view+json": {
       "model_id": "f966679a97334d31bbc0459f9825173c"
      }
     },
     "metadata": {},
     "output_type": "display_data"
    },
    {
     "name": "stderr",
     "output_type": "stream",
     "text": [
      "Widget Javascript not detected.  It may not be installed or enabled properly. Reconnecting the current kernel may help.\n"
     ]
    },
    {
     "data": {
      "application/vnd.jupyter.widget-view+json": {
       "model_id": "10bd8a3a309e4e049c217179494917d2"
      }
     },
     "metadata": {},
     "output_type": "display_data"
    },
    {
     "name": "stderr",
     "output_type": "stream",
     "text": [
      "Widget Javascript not detected.  It may not be installed or enabled properly. Reconnecting the current kernel may help.\n"
     ]
    },
    {
     "data": {
      "application/vnd.jupyter.widget-view+json": {
       "model_id": "3e5086d4184747bfa9ec043c2320d13c"
      }
     },
     "metadata": {},
     "output_type": "display_data"
    },
    {
     "name": "stderr",
     "output_type": "stream",
     "text": [
      "Widget Javascript not detected.  It may not be installed or enabled properly. Reconnecting the current kernel may help.\n"
     ]
    },
    {
     "data": {
      "application/vnd.jupyter.widget-view+json": {
       "model_id": "341777456f1f4a8680c8de06dfcd7578"
      }
     },
     "metadata": {},
     "output_type": "display_data"
    },
    {
     "name": "stderr",
     "output_type": "stream",
     "text": [
      "Widget Javascript not detected.  It may not be installed or enabled properly. Reconnecting the current kernel may help.\n"
     ]
    },
    {
     "data": {
      "application/vnd.jupyter.widget-view+json": {
       "model_id": "d7b188aa1afa432088721ffb403cf77d"
      }
     },
     "metadata": {},
     "output_type": "display_data"
    },
    {
     "name": "stderr",
     "output_type": "stream",
     "text": [
      "Widget Javascript not detected.  It may not be installed or enabled properly. Reconnecting the current kernel may help.\n"
     ]
    },
    {
     "data": {
      "application/vnd.jupyter.widget-view+json": {
       "model_id": "568aa0cfb1d14019b3ec673b2d818c66"
      }
     },
     "metadata": {},
     "output_type": "display_data"
    },
    {
     "name": "stderr",
     "output_type": "stream",
     "text": [
      "Widget Javascript not detected.  It may not be installed or enabled properly. Reconnecting the current kernel may help.\n"
     ]
    },
    {
     "data": {
      "application/vnd.jupyter.widget-view+json": {
       "model_id": "7d1dbb7dbe34420db6fb691e5df31718"
      }
     },
     "metadata": {},
     "output_type": "display_data"
    },
    {
     "name": "stderr",
     "output_type": "stream",
     "text": [
      "Widget Javascript not detected.  It may not be installed or enabled properly. Reconnecting the current kernel may help.\n"
     ]
    },
    {
     "data": {
      "application/vnd.jupyter.widget-view+json": {
       "model_id": "570ad2e50bc547dfb4235aaedcc6ef7a"
      }
     },
     "metadata": {},
     "output_type": "display_data"
    },
    {
     "name": "stderr",
     "output_type": "stream",
     "text": [
      "Widget Javascript not detected.  It may not be installed or enabled properly. Reconnecting the current kernel may help.\n"
     ]
    },
    {
     "data": {
      "application/vnd.jupyter.widget-view+json": {
       "model_id": "866669bb5d9f459b8519edbb779b137b"
      }
     },
     "metadata": {},
     "output_type": "display_data"
    },
    {
     "name": "stderr",
     "output_type": "stream",
     "text": [
      "Widget Javascript not detected.  It may not be installed or enabled properly. Reconnecting the current kernel may help.\n"
     ]
    },
    {
     "data": {
      "application/vnd.jupyter.widget-view+json": {
       "model_id": "cc6d0b8c93e44ac2b04bc2b769286e1e"
      }
     },
     "metadata": {},
     "output_type": "display_data"
    },
    {
     "name": "stderr",
     "output_type": "stream",
     "text": [
      "Widget Javascript not detected.  It may not be installed or enabled properly. Reconnecting the current kernel may help.\n"
     ]
    },
    {
     "data": {
      "application/vnd.jupyter.widget-view+json": {
       "model_id": "7a395aa1445641f882da8e08fbf98836"
      }
     },
     "metadata": {},
     "output_type": "display_data"
    },
    {
     "name": "stderr",
     "output_type": "stream",
     "text": [
      "Widget Javascript not detected.  It may not be installed or enabled properly. Reconnecting the current kernel may help.\n"
     ]
    },
    {
     "data": {
      "application/vnd.jupyter.widget-view+json": {
       "model_id": "7e09502d685b45f890b78aad8478e0b9"
      }
     },
     "metadata": {},
     "output_type": "display_data"
    },
    {
     "name": "stderr",
     "output_type": "stream",
     "text": [
      "Widget Javascript not detected.  It may not be installed or enabled properly. Reconnecting the current kernel may help.\n"
     ]
    },
    {
     "data": {
      "application/vnd.jupyter.widget-view+json": {
       "model_id": "56889f8f8a664082984dfc577100bf2a"
      }
     },
     "metadata": {},
     "output_type": "display_data"
    },
    {
     "name": "stderr",
     "output_type": "stream",
     "text": [
      "Widget Javascript not detected.  It may not be installed or enabled properly. Reconnecting the current kernel may help.\n"
     ]
    },
    {
     "data": {
      "application/vnd.jupyter.widget-view+json": {
       "model_id": "094c552fead64994b374300bef5e68e3"
      }
     },
     "metadata": {},
     "output_type": "display_data"
    },
    {
     "name": "stderr",
     "output_type": "stream",
     "text": [
      "Widget Javascript not detected.  It may not be installed or enabled properly. Reconnecting the current kernel may help.\n"
     ]
    },
    {
     "data": {
      "application/vnd.jupyter.widget-view+json": {
       "model_id": "3fa1f7902e3749059b6561e46a11a549"
      }
     },
     "metadata": {},
     "output_type": "display_data"
    },
    {
     "name": "stderr",
     "output_type": "stream",
     "text": [
      "Widget Javascript not detected.  It may not be installed or enabled properly. Reconnecting the current kernel may help.\n"
     ]
    },
    {
     "data": {
      "application/vnd.jupyter.widget-view+json": {
       "model_id": "2417be007700420886e59aa61705e395"
      }
     },
     "metadata": {},
     "output_type": "display_data"
    },
    {
     "name": "stderr",
     "output_type": "stream",
     "text": [
      "Widget Javascript not detected.  It may not be installed or enabled properly. Reconnecting the current kernel may help.\n"
     ]
    },
    {
     "data": {
      "application/vnd.jupyter.widget-view+json": {
       "model_id": "f5bef8044a0a4b0f81eccef89a7ddd20"
      }
     },
     "metadata": {},
     "output_type": "display_data"
    }
   ],
   "source": [
    "j = 0\n",
    "for i in liste:\n",
    "    display(radiobuttons(i, j, 'eher empfehlenswert','eher nicht empfehlenswert','beiseite legen')[0])\n",
    "    j+=1"
   ]
  },
  {
   "cell_type": "code",
   "execution_count": 8,
   "metadata": {
    "hideCode": true,
    "hidePrompt": true,
    "hide_input": false
   },
   "outputs": [
    {
     "name": "stderr",
     "output_type": "stream",
     "text": [
      "Widget Javascript not detected.  It may not be installed or enabled properly. Reconnecting the current kernel may help.\n"
     ]
    },
    {
     "data": {
      "application/vnd.jupyter.widget-view+json": {
       "model_id": "61f2c7c743c840abba0845021a48569a"
      }
     },
     "metadata": {},
     "output_type": "display_data"
    }
   ],
   "source": [
    "def fill_in_label(label_list):\n",
    "    df_lebensmittel_label = df_lebensmittel.copy()\n",
    "    df_lebensmittel_label['Label'] = label_list\n",
    "    df_lebensmittel_label_alle = df_lebensmittel_label.copy()\n",
    "    df_lebensmittel_label = df_lebensmittel_label[df_lebensmittel_label['Label']!='beiseite legen']\n",
    "    display(df_lebensmittel_label)\n",
    "    return df_lebensmittel_label, df_lebensmittel_label_alle\n",
    "label_widget = interactive(fill_in_label,{'manual': True, 'manual_name': 'Label eintragen'},label_list = fixed(results)) \n",
    "display(label_widget)\n",
    "label_widget.result = df_lebensmittel, df_lebensmittel"
   ]
  },
  {
   "cell_type": "markdown",
   "metadata": {},
   "source": [
    "# Daten sortieren"
   ]
  },
  {
   "cell_type": "markdown",
   "metadata": {
    "hide_input": true
   },
   "source": [
    "<div class=\"panel panel-success\">\n",
    "    <div class=\"panel-heading\">\n",
    "        <b> Eklärungstext </b>\n",
    "    </div>\n",
    "    <div class=\"panel-body\">\n",
    "Vielleicht erinnerst du dich daran, wie mühsam das <b>Sortieren</b> der Datenkarten für ein Merkmal war. Der Computer kann das viel schneller. \n",
    "\n",
    "\n",
    "</div> \n"
   ]
  },
  {
   "cell_type": "markdown",
   "metadata": {},
   "source": [
    "<div class=\"panel panel-info\">\n",
    "    <div class=\"panel-heading\">\n",
    "        <b>Aufgabe - Die Datentabelle sortieren</b>\n",
    "    </div>\n",
    "    <div class=\"panel-body\">\n",
    " Wähle ein Merkmal aus, nach dem die Datentabelle sortiert werden soll.\n",
    "        <p><p>\n",
    "       Welches Lebensmittel steht nun in der Datentabelle ganz oben?\n",
    "    </div> \n",
    "</div>"
   ]
  },
  {
   "cell_type": "code",
   "execution_count": 9,
   "metadata": {
    "hideCode": true,
    "hidePrompt": true,
    "hide_input": false,
    "scrolled": false
   },
   "outputs": [
    {
     "name": "stderr",
     "output_type": "stream",
     "text": [
      "Widget Javascript not detected.  It may not be installed or enabled properly. Reconnecting the current kernel may help.\n"
     ]
    },
    {
     "data": {
      "application/vnd.jupyter.widget-view+json": {
       "model_id": "3c8b694bb7674c52a86f958ae4f73d69"
      }
     },
     "metadata": {},
     "output_type": "display_data"
    }
   ],
   "source": [
    "def sort_data(Merkmal):\n",
    "    try:\n",
    "        df_lebensmittel_label = label_widget.result[0].copy() \n",
    "        df_lebensmittel_label = df_lebensmittel_label[df_lebensmittel_label['Label']!='beiseite legen']\n",
    "        display(df_lebensmittel_label.sort_values(Merkmal))\n",
    "        return df_lebensmittel_label.sort_values(Merkmal)\n",
    "    \n",
    "    except:\n",
    "        print('FEHLER')\n",
    "        print('Die Label sind noch nicht korrekt eingetragen.')\n",
    "        print('Wähle die Label oben aus und bestätige mit dem Button: \"Label Eintragen\"')\n",
    "sort_widget = interactive(sort_data,{'manual': True, 'manual_name': 'Sortiere Daten'}, Merkmal = df_lebensmittel.columns) \n",
    "sort_widget"
   ]
  },
  {
   "cell_type": "markdown",
   "metadata": {},
   "source": [
    "# Eine Entscheidungsregel aufstellen"
   ]
  },
  {
   "cell_type": "markdown",
   "metadata": {},
   "source": [
    "<div class=\"panel panel-success\">\n",
    "    <div class=\"panel-heading\">\n",
    "        <b> Eklärungtext - Schwellenwerte ausprobieren</b>\n",
    "    </div>\n",
    "    <div class=\"panel-body\">\n",
    "Im Unterricht hast du als nächstes einen Schwellenwert gesucht, der die sortierten Daten möglichst gut in \"eher empfehlenswert\" und in \"eher nicht empfehlenswert\" trennt. Du kannst hier verschiedene Schwellenwerte ausprobieren.\n",
    "        <p><p>\n",
    "        <b> Tipp</b> <p>\n",
    "        Nimm das Merkmal, nach dem du die Datentabelle gerade sortiert hast und probier verschiedene Schwellenwerte aus.\n",
    "\n",
    "<p></p>        \n",
    "        <b>Hinweis</b><p>\n",
    "Wenn du <b>automatisch</b> anklickst wird der ausgesuchte Schwellenwert ignoriert und der Computer sucht automatisch den besten Schwellwert für das ausgewählte Merkmal. Dann wird auch eine Tabelle angezeigt, in der du ablesen kannst, welche Schwellenwerte der Computer untersucht hat. Es ist faszinierend wie Schnell der Computer den besten Schwellenwert findet.\n",
    "        \n",
    "</div> \n"
   ]
  },
  {
   "cell_type": "markdown",
   "metadata": {},
   "source": [
    "<div class=\"panel panel-info\">\n",
    "    <div class=\"panel-heading\">\n",
    "        <b>Aufgabe - Was siehst Du jetzt?</b>\n",
    "    </div>\n",
    "    <div class=\"panel-body\">\n",
    "        Wie viele Lebensmittel werden mit deinem Schwellenwert richtig klassifiziert? <p>\n",
    "        Wie viele werden falsch klassifiziert?<p>\n",
    "        Probier noch einmal einen anderen Schwellenwert aus und vergleiche, welcher besser ist!\n",
    "    </div> \n",
    "</div>"
   ]
  },
  {
   "cell_type": "code",
   "execution_count": 10,
   "metadata": {
    "hideCode": true,
    "hidePrompt": true,
    "hide_input": false
   },
   "outputs": [
    {
     "name": "stderr",
     "output_type": "stream",
     "text": [
      "Widget Javascript not detected.  It may not be installed or enabled properly. Reconnecting the current kernel may help.\n"
     ]
    },
    {
     "data": {
      "application/vnd.jupyter.widget-view+json": {
       "model_id": "7c5600bcbd814bf1bae40374633a2ab5"
      }
     },
     "metadata": {},
     "output_type": "display_data"
    }
   ],
   "source": [
    "def datensplit(Schwellwert, automatisch):\n",
    "    \n",
    "    Kriterium = 'misclassification_error'\n",
    "    Zielvariable = 'Label'\n",
    "    try:\n",
    "        df_lebensmittel_label = label_widget.result[0].copy()\n",
    "        df_lebensmittel_label = df_lebensmittel_label[df_lebensmittel_label['Label']!='beiseite legen']\n",
    "\n",
    "        tree = ct.DecisionTree(data = df_lebensmittel_label, target = Zielvariable, crit = Kriterium)\n",
    "        if automatisch:\n",
    "            doc = tree.manual_split(attribute = merkmal_widget.result, doc = True)\n",
    "        else:\n",
    "            tree.manual_split(attribute = merkmal_widget.result, threshold = Schwellwert, doc = True)\n",
    "        \n",
    "        tree.print_tree()\n",
    "        display(tree.tree_graph)\n",
    "        \n",
    "        if automatisch:\n",
    "            df_uebersicht = pd.DataFrame()\n",
    "            df_uebersicht['Merkmal'] = doc['Attribute']\n",
    "            df_uebersicht['Schwellwert'] = doc['Threshold']\n",
    "            df_uebersicht['Fehlklassifikationen'] = (min(tree.tree_nodes[1].subset['Label'].value_counts().sort_index().tolist()) - doc['Criterion'] * len(df_lebensmittel_label)).astype(int)\n",
    "\n",
    "            display(df_uebersicht)\n",
    "\n",
    "        print('Korrekt Klassifikationen:',int((tree.prediction_accuracy(df_lebensmittel_label))*len(tree.tree_nodes[1].subset)),' \\n')\n",
    "        print('Fehlklassifikationen',int((1-(tree.prediction_accuracy(df_lebensmittel_label)))*len(tree.tree_nodes[1].subset)),' \\n')\n",
    "        return tree\n",
    "    \n",
    "    except:\n",
    "        print('FEHLER')\n",
    "        print('Die Label sind noch nicht korrekt eingetragen.')\n",
    "        print('Wähle die Label oben aus und bestätige mit dem Button: \"Label Eintragen\"')\n",
    "\n",
    "def merkmal(Merkmal):\n",
    "    split_widget = interactive(datensplit,{'manual': True, 'manual_name': 'Erstelle Split'}, Schwellwert = (label_widget.result[0][Merkmal].value_counts().sort_index().index.min()+0.1,label_widget.result[0][Merkmal].value_counts().sort_index().index.max()-0.1,0.1),automatisch = False)                           \n",
    "    display(split_widget)\n",
    "    return Merkmal\n",
    "merkmal_widget = interactive(merkmal, Merkmal = df_lebensmittel.columns) \n",
    "merkmal_widget\n"
   ]
  },
  {
   "cell_type": "markdown",
   "metadata": {
    "hide_input": true
   },
   "source": [
    "# Entscheidungsbaum automatisch erstellen lassen"
   ]
  },
  {
   "cell_type": "markdown",
   "metadata": {},
   "source": [
    "<div class=\"panel panel-success\">\n",
    "    <div class=\"panel-heading\">\n",
    "        <b> Eklärungtext </b>\n",
    "    </div>\n",
    "    <div class=\"panel-body\">\n",
    "Jetzt übernimmt der Computer die ganze Arbeit. Das Sortieren und auswählen der Schwellwerte passiert ganz automatisch, indem der Computer alle Möglichkeiten testet.\n",
    "\n",
    "</div> \n"
   ]
  },
  {
   "cell_type": "markdown",
   "metadata": {},
   "source": [
    "<div class=\"panel panel-info\">\n",
    "    <div class=\"panel-heading\">\n",
    "        <b>Aufgabe - Die Anzahl der Stufen verändern</b>\n",
    "    </div>\n",
    "    <div class=\"panel-body\">\n",
    "        Lass automatisch einen Entscheidungsbaum erstellen. Du kannst dem Computer dabei noch sagen, wie viele Stufen der Entscheidungsbaum haben soll. <p><p>\n",
    "        Probier mal aus, wie der Baum aussieht, wenn du verschiedene Tiefen einstellst.\n",
    "    </div> \n",
    "</div>"
   ]
  },
  {
   "cell_type": "code",
   "execution_count": 11,
   "metadata": {
    "hideCode": true,
    "hidePrompt": true,
    "hide_input": false
   },
   "outputs": [
    {
     "name": "stderr",
     "output_type": "stream",
     "text": [
      "Widget Javascript not detected.  It may not be installed or enabled properly. Reconnecting the current kernel may help.\n"
     ]
    },
    {
     "data": {
      "application/vnd.jupyter.widget-view+json": {
       "model_id": "14275806a1b14736b22b32eac24c3016"
      }
     },
     "metadata": {},
     "output_type": "display_data"
    }
   ],
   "source": [
    "def grow_tree( Max_Stufen):\n",
    "    \n",
    "    try:\n",
    "        Kriterium = 'misclassification_error'\n",
    "        Zielvariable = 'Label'\n",
    "        df_lebensmittel_label = label_widget.result[0].copy()\n",
    "        df_lebensmittel_label = df_lebensmittel_label[df_lebensmittel_label['Label']!='beiseite legen']                                                                                                                \n",
    "\n",
    "        tree = ct.DecisionTree(data = df_lebensmittel_label, target = Zielvariable, crit = Kriterium)\n",
    "        tree.grow_tree(max_depth = Max_Stufen-1)\n",
    "        tree.print_tree()\n",
    "        display(tree.tree_graph)\n",
    "\n",
    "\n",
    "        print('Korrekt Klassifikationen:',int((tree.prediction_accuracy(df_lebensmittel_label))*len(tree.tree_nodes[1].subset)),' \\n')\n",
    "        print('Fehlklassifikationen',int(round((1-(tree.prediction_accuracy(df_lebensmittel_label)))*len(tree.tree_nodes[1].subset),2)),' \\n')\n",
    "        print ('\\n Super, du hast den Computer einen Entscheidungsbaum erstellen lassen!')\n",
    "\n",
    "        return tree\n",
    "    except:\n",
    "        print('FEHLER')\n",
    "        print('Die Label sind noch nicht korrekt eingetragen.')\n",
    "        print('Wähle die Label oben aus und bestätige mit dem Button: \"Label Eintragen\"')\n",
    "tree_widget = interactive(grow_tree,{'manual': True, 'manual_name': 'Erstelle Baum'}, Max_Stufen=(1,6,1) ) \n",
    "tree_widget"
   ]
  },
  {
   "cell_type": "markdown",
   "metadata": {},
   "source": [
    "# Testdaten"
   ]
  },
  {
   "cell_type": "markdown",
   "metadata": {},
   "source": [
    "<div class=\"panel panel-success\">\n",
    "    <div class=\"panel-heading\">\n",
    "        <b> Eklärungtext - Ist der Baum gut? </b>\n",
    "    </div>\n",
    "    <div class=\"panel-body\">\n",
    "Hier kannst du den Entscheidungsbaum anwenden und testen. Wähle dazu ein Lebensmittel aus, das durch den Entscheidungsbaum klassifiziert werden soll. \n",
    "\n",
    "</div> \n"
   ]
  },
  {
   "cell_type": "code",
   "execution_count": 12,
   "metadata": {
    "code_folding": [],
    "hideCode": true,
    "hidePrompt": true,
    "hide_input": false
   },
   "outputs": [
    {
     "name": "stderr",
     "output_type": "stream",
     "text": [
      "Widget Javascript not detected.  It may not be installed or enabled properly. Reconnecting the current kernel may help.\n"
     ]
    },
    {
     "data": {
      "application/vnd.jupyter.widget-view+json": {
       "model_id": "f53142a3854f49f4a8d93ce73cce1e6b"
      }
     },
     "metadata": {},
     "output_type": "display_data"
    }
   ],
   "source": [
    "def test(Lebensmittel):\n",
    "    \n",
    "    try:\n",
    "        df_lebensmittel_label = label_widget.result[1].copy()\n",
    "\n",
    "        print('Nährwerte von ' + Lebensmittel)\n",
    "        display(df_lebensmittel_label.loc[Lebensmittel])\n",
    "        \n",
    "        try:\n",
    "            print('Der Entscheidungsbaum klassifiziert das Lebensmittel ' + Lebensmittel + ' als:')\n",
    "            display(tree_widget.result.query(df_lebensmittel_label.loc[Lebensmittel]))\n",
    "        except:\n",
    "            print('FEHLER')\n",
    "            print('Es wurde noch kein Entscheidungsbaum erstellt')\n",
    "            print('Wähle lass weiter oben automatisch einen Entscheidungsbaum erstellen.')\n",
    "\n",
    "        #print('Korrekt Klassifikationen:',int((tree.prediction_accuracy(df_lebensmittel_label))*len(tree.tree_nodes[1].subset)),' \\n')\n",
    "        #print('Fehlklassifikationen',int((1-(tree.prediction_accuracy(df_lebensmittel_label)))*len(tree.tree_nodes[1].subset)),' \\n')\n",
    "\n",
    "\n",
    "        #return tree\n",
    "    except:\n",
    "        print('FEHLER')\n",
    "        print('Die Label sind noch nicht korrekt eingetragen.')\n",
    "        print('Wähle die Label oben aus und bestätige mit dem Button: \"Label Eintragen\"')\n",
    "test_widget = interactive(test,{'manual': True, 'manual_name': 'Klassifiziere'}, Lebensmittel=df_lebensmittel.index) \n",
    "test_widget\n",
    "\n"
   ]
  },
  {
   "cell_type": "code",
   "execution_count": null,
   "metadata": {},
   "outputs": [],
   "source": []
  }
 ],
 "metadata": {
  "celltoolbar": "Hide code",
  "hide_input": false,
  "kernelspec": {
   "display_name": "Python 3 (ipykernel)",
   "language": "python",
   "name": "python3"
  },
  "language_info": {
   "codemirror_mode": {
    "name": "ipython",
    "version": 3
   },
   "file_extension": ".py",
   "mimetype": "text/x-python",
   "name": "python",
   "nbconvert_exporter": "python",
   "pygments_lexer": "ipython3",
   "version": "3.11.6"
  },
  "toc": {
   "base_numbering": 1,
   "nav_menu": {},
   "number_sections": true,
   "sideBar": true,
   "skip_h1_title": false,
   "title_cell": "Table of Contents",
   "title_sidebar": "Contents",
   "toc_cell": false,
   "toc_position": {
    "height": "calc(100% - 180px)",
    "left": "10px",
    "top": "150px",
    "width": "384px"
   },
   "toc_section_display": true,
   "toc_window_display": true
  }
 },
 "nbformat": 4,
 "nbformat_minor": 2
}
