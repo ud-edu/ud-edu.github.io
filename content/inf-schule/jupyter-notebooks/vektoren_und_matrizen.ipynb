{
 "cells": [
  {
   "cell_type": "markdown",
   "id": "organized-lewis",
   "metadata": {},
   "source": [
    "# Aufgabe 1: (Vektoren)\n",
    "Definiere in Python zwei Vektoren $\\vec{a} := \\left( \\begin{array}{c} 1\\\\2\\\\3 \\end{array} \\right)$ und $\\vec{b} := \\left( \\begin{array}{c} 5\\\\4\\\\6 \\end{array} \\right)$\n",
    "\n",
    "Verwende dazu die Klasse `array` aus dem Paket `numpy`. Einen Vektor kannst du damit dann wie folgt definieren:  \n",
    "`import numpy as np`  \n",
    "`u = np.array([0,8,15])`"
   ]
  },
  {
   "cell_type": "code",
   "execution_count": null,
   "id": "scheduled-regular",
   "metadata": {},
   "outputs": [],
   "source": []
  },
  {
   "cell_type": "markdown",
   "id": "falling-piano",
   "metadata": {},
   "source": [
    "# Aufgabe 2: (Rechnen mit Vektoren)\n",
    "Berechne für die beiden Vektoren aus Aufgabe 1\n",
    "1. die Summe $\\vec{a}+\\vec{b}$.\n",
    "2. die Differenz $\\vec{a}-\\vec{b}$.\n",
    "3. das Skalarprodukt $\\vec{a} \\cdot \\vec{b}$.\n",
    "4. das Vektorprodukt $\\vec{a} \\times \\vec{b}$.\n",
    "Recherchiere dazu im Intenet nach den numpy-Befehlen, die man dazu benötigt.\n"
   ]
  },
  {
   "cell_type": "code",
   "execution_count": null,
   "id": "prompt-clearing",
   "metadata": {},
   "outputs": [],
   "source": []
  },
  {
   "cell_type": "markdown",
   "id": "healthy-triumph",
   "metadata": {},
   "source": [
    "# Aufgabe 3: (Matrix-Vektor-Multiplikation, 2D)\n",
    "Definiere eine Matrix \n",
    "$A := \\left( \\begin{array}{ccc}\n",
    "    1 & 2 \\\\\n",
    "    -1 & 4\n",
    "\\end{array}\\right)$\n",
    "und einen Vektor $\\vec{b} := \\left( \\begin{array}{c} 1\\\\2 \\end{array} \\right)$ in Python und berechne anschließend das Matrix-Vektor-Produkt $A \\cdot \\vec{b}$ in Python.\n",
    "\n",
    "Falls du noch nicht weiss, wie das Matrix-Vektor-Produkt definiert ist, kann du dies [hier](https://de.wikipedia.org/wiki/Matrix-Vektor-Produkt) nachschlagen.\n",
    "\n",
    "In Python kannst du eine Matrix wie folgt definieren:\n",
    "```\n",
    "A = np.array([ [1,2], \n",
    "               [-1,4] ])\n",
    "```\n",
    "Recherchiere im Internet, wie man damit dann das Matrix-Vektor-Produkt berechnet."
   ]
  },
  {
   "cell_type": "code",
   "execution_count": null,
   "id": "forbidden-vision",
   "metadata": {},
   "outputs": [],
   "source": []
  },
  {
   "cell_type": "markdown",
   "id": "affecting-samba",
   "metadata": {},
   "source": [
    "# Aufgabe 4: (Matrix-Vektor-Multiplikation, 3D)\n",
    "Sei $A := \\left( \\begin{array}{ccc}\n",
    "                  5 & 1 & 3 \\\\\n",
    "                  1 & 1 & 1 \\\\\n",
    "                  1 & 2 & 1\n",
    "                 \\end{array}\\right)$\n",
    "und $\\vec{b} := \\left( \\begin{array}{c} 1\\\\2\\\\3 \\end{array} \\right)$. Berechne das Matrix-Vektorprodukt $A \\cdot \\vec{b}$ mit Python. <br/>\n"
   ]
  },
  {
   "cell_type": "code",
   "execution_count": null,
   "id": "permanent-damage",
   "metadata": {},
   "outputs": [],
   "source": []
  }
 ],
 "metadata": {
  "kernelspec": {
   "display_name": "Python 3",
   "language": "python",
   "name": "python3"
  },
  "language_info": {
   "codemirror_mode": {
    "name": "ipython",
    "version": 3
   },
   "file_extension": ".py",
   "mimetype": "text/x-python",
   "name": "python",
   "nbconvert_exporter": "python",
   "pygments_lexer": "ipython3",
   "version": "3.9.2"
  }
 },
 "nbformat": 4,
 "nbformat_minor": 5
}
