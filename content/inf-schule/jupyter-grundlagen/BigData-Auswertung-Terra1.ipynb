{
 "cells": [
  {
   "cell_type": "markdown",
   "id": "0b1a6cd9",
   "metadata": {},
   "source": [
    "# Towards Big Data - Auswertung goßer Datenmengen\n",
    "Schauen wir uns nun ein Beispiel mit einer etwas größeren Datenmenge an. Zunächst lesen wir die Daten aus einer vorgegebenen csv-Datei ein, und verschaffen uns einen ersten Überblick:"
   ]
  },
  {
   "cell_type": "code",
   "execution_count": 1,
   "id": "99fbbb80",
   "metadata": {},
   "outputs": [
    {
     "data": {
      "text/html": [
       "<div>\n",
       "<style scoped>\n",
       "    .dataframe tbody tr th:only-of-type {\n",
       "        vertical-align: middle;\n",
       "    }\n",
       "\n",
       "    .dataframe tbody tr th {\n",
       "        vertical-align: top;\n",
       "    }\n",
       "\n",
       "    .dataframe thead th {\n",
       "        text-align: right;\n",
       "    }\n",
       "</style>\n",
       "<table border=\"1\" class=\"dataframe\">\n",
       "  <thead>\n",
       "    <tr style=\"text-align: right;\">\n",
       "      <th></th>\n",
       "      <th>Ort</th>\n",
       "      <th>Land</th>\n",
       "      <th>Einwohner</th>\n",
       "      <th>Laenge</th>\n",
       "      <th>Breite</th>\n",
       "    </tr>\n",
       "  </thead>\n",
       "  <tbody>\n",
       "    <tr>\n",
       "      <th>0</th>\n",
       "      <td>Kabul</td>\n",
       "      <td>Afghanistan</td>\n",
       "      <td>1400000</td>\n",
       "      <td>69.000</td>\n",
       "      <td>34.000</td>\n",
       "    </tr>\n",
       "    <tr>\n",
       "      <th>1</th>\n",
       "      <td>Kandahar</td>\n",
       "      <td>Afghanistan</td>\n",
       "      <td>323900</td>\n",
       "      <td>65.000</td>\n",
       "      <td>31.000</td>\n",
       "    </tr>\n",
       "    <tr>\n",
       "      <th>2</th>\n",
       "      <td>Masar-e Scharif</td>\n",
       "      <td>Afghanistan</td>\n",
       "      <td>250000</td>\n",
       "      <td>67.000</td>\n",
       "      <td>36.000</td>\n",
       "    </tr>\n",
       "    <tr>\n",
       "      <th>3</th>\n",
       "      <td>Abnub</td>\n",
       "      <td>Ägypten</td>\n",
       "      <td>70791</td>\n",
       "      <td>31.150</td>\n",
       "      <td>27.270</td>\n",
       "    </tr>\n",
       "    <tr>\n",
       "      <th>4</th>\n",
       "      <td>Abo el Matamer</td>\n",
       "      <td>Ägypten</td>\n",
       "      <td>47432</td>\n",
       "      <td>30.180</td>\n",
       "      <td>30.920</td>\n",
       "    </tr>\n",
       "    <tr>\n",
       "      <th>...</th>\n",
       "      <td>...</td>\n",
       "      <td>...</td>\n",
       "      <td>...</td>\n",
       "      <td>...</td>\n",
       "      <td>...</td>\n",
       "    </tr>\n",
       "    <tr>\n",
       "      <th>26846</th>\n",
       "      <td>Berberati</td>\n",
       "      <td>Zentralafrikanische Republik</td>\n",
       "      <td>66668</td>\n",
       "      <td>15.780</td>\n",
       "      <td>4.250</td>\n",
       "    </tr>\n",
       "    <tr>\n",
       "      <th>26847</th>\n",
       "      <td>Bimbo</td>\n",
       "      <td>Zentralafrikanische Republik</td>\n",
       "      <td>164208</td>\n",
       "      <td>18.540</td>\n",
       "      <td>4.300</td>\n",
       "    </tr>\n",
       "    <tr>\n",
       "      <th>26848</th>\n",
       "      <td>Kaga-Bandoro</td>\n",
       "      <td>Zentralafrikanische Republik</td>\n",
       "      <td>58353</td>\n",
       "      <td>19.180</td>\n",
       "      <td>6.980</td>\n",
       "    </tr>\n",
       "    <tr>\n",
       "      <th>26849</th>\n",
       "      <td>Mbaiki</td>\n",
       "      <td>Zentralafrikanische Republik</td>\n",
       "      <td>75809</td>\n",
       "      <td>18.000</td>\n",
       "      <td>3.870</td>\n",
       "    </tr>\n",
       "    <tr>\n",
       "      <th>26850</th>\n",
       "      <td>Nicosia</td>\n",
       "      <td>Zypern</td>\n",
       "      <td>228000</td>\n",
       "      <td>33.374</td>\n",
       "      <td>35.168</td>\n",
       "    </tr>\n",
       "  </tbody>\n",
       "</table>\n",
       "<p>26851 rows × 5 columns</p>\n",
       "</div>"
      ],
      "text/plain": [
       "                   Ort                          Land  Einwohner  Laenge  \\\n",
       "0                Kabul                   Afghanistan    1400000  69.000   \n",
       "1             Kandahar                   Afghanistan     323900  65.000   \n",
       "2      Masar-e Scharif                   Afghanistan     250000  67.000   \n",
       "3                Abnub                       Ägypten      70791  31.150   \n",
       "4       Abo el Matamer                       Ägypten      47432  30.180   \n",
       "...                ...                           ...        ...     ...   \n",
       "26846        Berberati  Zentralafrikanische Republik      66668  15.780   \n",
       "26847            Bimbo  Zentralafrikanische Republik     164208  18.540   \n",
       "26848     Kaga-Bandoro  Zentralafrikanische Republik      58353  19.180   \n",
       "26849           Mbaiki  Zentralafrikanische Republik      75809  18.000   \n",
       "26850          Nicosia                        Zypern     228000  33.374   \n",
       "\n",
       "       Breite  \n",
       "0      34.000  \n",
       "1      31.000  \n",
       "2      36.000  \n",
       "3      27.270  \n",
       "4      30.920  \n",
       "...       ...  \n",
       "26846   4.250  \n",
       "26847   4.300  \n",
       "26848   6.980  \n",
       "26849   3.870  \n",
       "26850  35.168  \n",
       "\n",
       "[26851 rows x 5 columns]"
      ]
     },
     "execution_count": 1,
     "metadata": {},
     "output_type": "execute_result"
    }
   ],
   "source": [
    "import  pandas as pd\n",
    "df = pd.read_csv('terra1.csv', )\n",
    "df"
   ]
  },
  {
   "cell_type": "markdown",
   "id": "ad908086",
   "metadata": {},
   "source": [
    "OK, das ist noch nicht wirklich \"Big-Data\", aber immerhin eine Tabelle mit 26.851 Orten und damit zuviel, um sich alle Datenpunkte einzeln anzuschauen. Um einen Überblick über die Daten zu bekommen, benötigen wir also ein Werkzeug zur Aggregation und Auswertung. Wie wir bereits gesehen haben, stellt uns die Python-Bilbliothek Pandas solche Werzeuge zur Verfügung, so dass wir nicht alles \"from Scratch\" per Hand schreiben müssen.\n",
    "\n",
    "Die Daten stammen übrigens aus aus dem [Kapitel über Datenbanken](https://www.inf-schule.de/@/page/HU3DE5C572jZ8Kei) (dort die \"terra1\"-Datenbank). Beachte, dass die Daten rein zu Ausbildungszwecken dienen und keinen Anspruch auf Vollständigkeit oder Korrektheit erfüllen.\n",
    "\n",
    "\n",
    "Die Konvertierung des Datenbankformates in einen DataFrame ist übrigens relativ einfach, da der Konstruktor von DataFrame einen Datenbank-Cursor akzeptiert. Falls du das nachvolliehen möchtest, dann recherchiere im Internet einfach mal nach \"Konvertierung mysql in DataFrame\". Datenbank-Expert:innen unter euch können sich so weitere \"Big-Data\"-Datensätze herstellen zum Experimentieren mit der Bibliothek Pandas."
   ]
  },
  {
   "cell_type": "markdown",
   "id": "f1cb7610",
   "metadata": {},
   "source": [
    "### Aufgabe 1\n",
    "Verschaffe dir einen ersten Überblick über die Daten in dem DataFrame df. Beantworte dazu insbesondere die folgenden Fragen und dokumentiere den Python-Code, den du dazu verwendest:\n",
    "- Wie viele Einwohner:innen gibt es insgesamt?\n",
    "- Wie viele Einwohner gibt es im Mittel pro Ort?\n",
    "- Wie viele Einwohner:innen hat der kleinste Ort? Wie viele der größte Ort?\n",
    "\n",
    "Natürlich darfst du auch noch weitere Analysen machen. Dokumentiere sie einfach ebenfalls direkt hier im Notebook."
   ]
  },
  {
   "cell_type": "code",
   "execution_count": null,
   "id": "5b45f6b6",
   "metadata": {},
   "outputs": [],
   "source": [
    "# Lösung Aufgabe 1\n"
   ]
  },
  {
   "cell_type": "markdown",
   "id": "bd778512",
   "metadata": {},
   "source": [
    "### Aufgabe 2\n",
    "Jetzt wird es schon etwas komplizierter. Nach der ersten Analyse interessieren uns nur natürlich detaillierte Fragen:\n",
    "- Wie viele Einwohner:innen hat Berlin?\n",
    "- Welche Orte haben genau 33 Einwohner:innen?\n",
    "- Wie viele Megastädte mit mindestens 10 Mio. Einwohner gibt es? Welche sind es?\n",
    "- Wie heisst der kleinste Ort? Wie der größte?\n",
    "\n",
    "Tipp: Verwende die Funktion **pandas.DataFrame.loc**. Dokumentiere wieder den Python-Code, den du zur Beantwortung dieser Fragen verwendest."
   ]
  },
  {
   "cell_type": "code",
   "execution_count": null,
   "id": "5e438955",
   "metadata": {},
   "outputs": [],
   "source": [
    "# Lösung Aufgabe 2\n"
   ]
  },
  {
   "cell_type": "markdown",
   "id": "c7093654",
   "metadata": {},
   "source": [
    "### Aufgabe 3\n",
    "Welche Länder haben mindestens 4711 und höchstens 4715 Einwohner?\n",
    "\n",
    "Tipp: Verwende die Funktion **pandas.DataFrame.loc** und den elementweise logischen UND-Operator **&**"
   ]
  },
  {
   "cell_type": "code",
   "execution_count": null,
   "id": "5b3a176e",
   "metadata": {},
   "outputs": [],
   "source": [
    "# Lösung Aufgabe 3\n"
   ]
  },
  {
   "cell_type": "markdown",
   "id": "ceefe01f",
   "metadata": {},
   "source": [
    "### Aufgabe 4 \n",
    "Welches ist der einwohnermäßig \"mittelmäßigste\" Ort? Das heisst, die Einwohnerzahl welchen Ortes liegt am nächsten an der mittleren Einwohnerzahl aller Orte?\n",
    "\n",
    "Tipp: Hier kommst du wahrscheinlich nicht alleine mit einem einzigen eleganten Pandas-Befehl weiter, sondern musst etwas Pythoncode schreiben. Erweitere dazu schrittweise deine Lösung aus Aufgabe 3."
   ]
  },
  {
   "cell_type": "code",
   "execution_count": null,
   "id": "933c7d76",
   "metadata": {},
   "outputs": [],
   "source": [
    "# Lösung Aufgabe 4\n"
   ]
  },
  {
   "cell_type": "markdown",
   "id": "61e12b73",
   "metadata": {},
   "source": [
    "---\n",
    "# Städte nach Ländern sortiert\n",
    "Um den Datensatz nach Ländern sortiert auszuwerten, erstellen wir zunächst ein neues DataFrame mit Attribut \"Land\" als Index:"
   ]
  },
  {
   "cell_type": "code",
   "execution_count": null,
   "id": "705a7188",
   "metadata": {},
   "outputs": [],
   "source": [
    "df_land = df.set_index('Land')\n",
    "df_land"
   ]
  },
  {
   "cell_type": "markdown",
   "id": "05f5211c",
   "metadata": {},
   "source": [
    "### Aufgabe 5\n",
    "\n",
    "Beantworte die folgenden Fragen, indem du das neue DataFrame df_land verwendest:\n",
    "- Wieviele Einwohner haben alle deutschen Städte insgesamt?\n",
    "- Wie viele haben sie im Mittel?"
   ]
  },
  {
   "cell_type": "code",
   "execution_count": null,
   "id": "f7d085a0",
   "metadata": {},
   "outputs": [],
   "source": [
    "# Lösung Aufgabe 5\n"
   ]
  },
  {
   "cell_type": "markdown",
   "id": "90241f5b",
   "metadata": {},
   "source": [
    "### Aufgabe 6\n",
    "- Wie viele Einwohner gibt es in pro Land insgesamt? Ausgabe aufsteigend sortiert.\n",
    "- Wie viele Einwohner gibt es in pro Land im Mittel? Ausgabe aufsteigend sortiert.\n",
    "- Was fällt dir bei Südkorea auf?\n",
    "\n",
    "Tipp: Verwende die Funktion **pandas.DataFrame.groupby**"
   ]
  },
  {
   "cell_type": "code",
   "execution_count": null,
   "id": "4a3bf0b2",
   "metadata": {},
   "outputs": [],
   "source": [
    "# Lösung Aufgabe 6\n"
   ]
  },
  {
   "cell_type": "markdown",
   "id": "61cacadb",
   "metadata": {},
   "source": [
    "### Aufgabe 7\n",
    "- Wo liegt die \"Mitte Deutschlands\"? Gemeint ist hiermit die geographische Mitte, also die Mittelwerte der geographischen Koordinate aller Orte.\n",
    "- Welche Orte liegen in einem Quadtrat der Kantenlänge 0,1°, dass als MIttelpunkt die \"Mitte Deutschlands\" hat?"
   ]
  },
  {
   "cell_type": "code",
   "execution_count": null,
   "id": "54d5fe05",
   "metadata": {},
   "outputs": [],
   "source": [
    "# Lösung Aufgabe 7\n"
   ]
  }
 ],
 "metadata": {
  "kernelspec": {
   "display_name": "Python 3 (ipykernel)",
   "language": "python",
   "name": "python3"
  },
  "language_info": {
   "codemirror_mode": {
    "name": "ipython",
    "version": 3
   },
   "file_extension": ".py",
   "mimetype": "text/x-python",
   "name": "python",
   "nbconvert_exporter": "python",
   "pygments_lexer": "ipython3",
   "version": "3.11.5"
  }
 },
 "nbformat": 4,
 "nbformat_minor": 5
}
