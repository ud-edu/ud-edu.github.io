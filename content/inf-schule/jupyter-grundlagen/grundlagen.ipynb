{
 "cells": [
  {
   "cell_type": "markdown",
   "id": "derived-talent",
   "metadata": {},
   "source": [
    "# Ausführungs-Reihenfolge der Python-Felder\n",
    "Bei Jupyter-Notebooks kommt es auf die Reihenfolge an, in der Python-Felder ausgeführt werden.\n",
    "\n",
    "## Aufgabe\n",
    "Führe die folgenden Python-Eingabefelder in unterschiedlicher Reihenfolge aus. Verändere dabei zwischendurch auch immer wieder die Werte der Variablen a und b. Beobachte genau, was dabei passiert."
   ]
  },
  {
   "cell_type": "code",
   "execution_count": null,
   "id": "contrary-seminar",
   "metadata": {},
   "outputs": [],
   "source": [
    "print(a)"
   ]
  },
  {
   "cell_type": "code",
   "execution_count": null,
   "id": "uniform-cross",
   "metadata": {},
   "outputs": [],
   "source": [
    "a = 23"
   ]
  },
  {
   "cell_type": "code",
   "execution_count": null,
   "id": "classical-mileage",
   "metadata": {},
   "outputs": [],
   "source": [
    "b = 42"
   ]
  },
  {
   "cell_type": "code",
   "execution_count": null,
   "id": "thorough-canberra",
   "metadata": {},
   "outputs": [],
   "source": [
    "print (a)"
   ]
  },
  {
   "cell_type": "code",
   "execution_count": null,
   "id": "committed-filename",
   "metadata": {},
   "outputs": [],
   "source": [
    "print(b)"
   ]
  },
  {
   "cell_type": "markdown",
   "id": "catholic-toronto",
   "metadata": {},
   "source": [
    "# Aufgabe\n",
    "Halte deine Beobachung aus der obigen Aufgabe in dem folgenden Markdown-Feld fest:"
   ]
  },
  {
   "cell_type": "markdown",
   "id": "lasting-garden",
   "metadata": {},
   "source": []
  }
 ],
 "metadata": {
  "kernelspec": {
   "display_name": "Python 3 (ipykernel)",
   "language": "python",
   "name": "python3"
  },
  "language_info": {
   "codemirror_mode": {
    "name": "ipython",
    "version": 3
   },
   "file_extension": ".py",
   "mimetype": "text/x-python",
   "name": "python",
   "nbconvert_exporter": "python",
   "pygments_lexer": "ipython3",
   "version": "3.11.1"
  }
 },
 "nbformat": 4,
 "nbformat_minor": 5
}
