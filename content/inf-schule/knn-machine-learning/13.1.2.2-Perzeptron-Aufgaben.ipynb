{
 "cells": [
  {
   "cell_type": "markdown",
   "metadata": {},
   "source": [
    "<img src=\"Perzeptron_Klassifikation_Tier.png\" width=\"50%\" style=\"float:right;\">\n",
    "\n",
    "# Perzeptron: Klassifikation Tiere\n",
    "Quelle: inf-schule.de, Kapitel [13.1.2.2](https://inf-schule.de/@/page/uPhncwwMBrnT0dNS)"
   ]
  },
  {
   "cell_type": "markdown",
   "metadata": {},
   "source": [
    "# Verwendung von numpy.array und Berechnung des Skalarproduktes\n",
    "Anhand des folgenden Codebeispiels wird deutlich, wie numpy.arrays verwendet werden können, um das SKP zweier Vektoren zu berechnen."
   ]
  },
  {
   "cell_type": "code",
   "execution_count": null,
   "metadata": {},
   "outputs": [],
   "source": [
    "import numpy as np\n",
    "a = np.array( [ 2, 4  ] )\n",
    "b = np.array( [20, 0.5] )\n",
    "print( np.dot(a,b) )"
   ]
  },
  {
   "cell_type": "markdown",
   "metadata": {},
   "source": [
    "# Aufgabe 1\n",
    "Definiere zunächst ein Perzeptron mit Gewicht $\\vec{w}=(1,0.5)^T$ und Schwellenwert $\\Theta = 2$ als Python-Funktion. Diese Funktion wird dann in den weiteren Aufgaben benötigt.\n",
    "\n",
    "**Tipp:** In der Funktion kannst du die gerade besprochene Python-Funktion numpy.dot verwenden, um das SKP $\\vec{y}=\\vec{w}\\cdot\\vec{x}$ zwischen dem dem Gewichtsvektor $\\vec{w}$ und dem Eingangsvektor $\\vec{x}$ zu berechnen. "
   ]
  },
  {
   "cell_type": "code",
   "execution_count": null,
   "metadata": {},
   "outputs": [],
   "source": [
    "import numpy as np"
   ]
  },
  {
   "cell_type": "code",
   "execution_count": null,
   "metadata": {},
   "outputs": [],
   "source": [
    "# Die Funktion percepton gibt 0 oder 1 zurück (entspricht \"nicht feuern\" oder \"feuern\")\n",
    "def perceptron(x):\n",
    "    \"\"\"\n",
    "    :param np.array x: Eingangs-Vektor (Zahngroesse, Augengroesse)\n",
    "    :return: 0 für feuert nicht; 1 für feuert\n",
    "    :rtype: int\n",
    "    \"\"\"\n",
    "    # Hier muss der Quelltext ergaenzt werden\n",
    "    "
   ]
  },
  {
   "cell_type": "code",
   "execution_count": null,
   "metadata": {},
   "outputs": [],
   "source": [
    "# Aufruf der Funktion zum Testen\n",
    "perceptron( np.array([23,42]) )"
   ]
  },
  {
   "cell_type": "markdown",
   "metadata": {},
   "source": [
    "# Aufgabe 2:\n",
    "Klassifiziere die folgenden Tiere mit dem oben definierten Perzeptron ($w_1= 1, w_2=0,5, \\Theta=2$) nach ihrer Gefährlichkeit. Die Eingabewerte der Tiere werden jeweils in Vektorform\n",
    "$\\vec{x} = \\left(\\begin{array}{ll} x_1  \\\\ x_2 \\end{array}\\right)$\n",
    "geschrieben:\n",
    "\n",
    "\\begin{eqnarray}\n",
    "\\vec{a} = \\left(\\begin{array}{ll} 3  \\\\ 0 \\end{array}\\right)\\qquad\n",
    "\\vec{b} = \\left(\\begin{array}{ll} 0  \\\\ 3 \\end{array}\\right)\\qquad\n",
    "\\vec{c} = \\left(\\begin{array}{ll} 0,5  \\\\ 2 \\end{array}\\right)\\qquad\n",
    "\\vec{d} = \\left(\\begin{array}{ll} 2  \\\\ 0,5 \\end{array}\\right)\\qquad \\nonumber\n",
    "\\end{eqnarray}\n"
   ]
  },
  {
   "cell_type": "code",
   "execution_count": null,
   "metadata": {},
   "outputs": [],
   "source": []
  },
  {
   "cell_type": "markdown",
   "metadata": {},
   "source": [
    "<img src=\"aufgabe_klassifikation_tiere_anhand_diagramm.png\" width=\"40%\" style=\"float:right\">\n",
    "\n",
    "# Aufgabe 3:\n",
    "Die Punkte A, B, C, D, E, F sollen Tiere symbolisieren, die nach ihrer Gefährlichkeit klassifiziert werden sollen.  \n",
    "\n",
    "Klassifiziere die Tiere mit dem oben definierten Perzeptron ($w_1= 1, w_2=0,5, \\Theta=2$) nach ihrer Gefährlichkeit. Gib jeweils drei weitere Beispiele für gefährliche Tiere und für ungefährliche Tiere an.\n",
    "\n",
    "Verwende für diese Aufgabe Python. Die Ausgabe könnte z.B. we folgt aussehen:\n",
    "\n",
    "Tier [1 1] ist ungefährlich  \n",
    "Tier [1.5 0.5] ist ..."
   ]
  },
  {
   "cell_type": "code",
   "execution_count": null,
   "metadata": {},
   "outputs": [],
   "source": []
  },
  {
   "cell_type": "markdown",
   "metadata": {},
   "source": [
    "<img src=\"aufgabe_klassifikation_tiere_anhand_diagramm.png\" width=\"40%\" style=\"float:right\">\n",
    "\n",
    "# Aufgabe 4:\n",
    "Klassifiziere die Tiere aus Aufgabe 2 mit dem Python-Programm aus Aufgabe 3 und stelle die Ergebnisse graphisch in der Zahlenebene dar, indem du die Punkte entsprechend einfärbst. \n",
    "\n",
    "Rot: gefährliche Tiere  \n",
    "Grün: ungefährliche Tiere\n",
    "\n",
    "Tipps: \n",
    "\n",
    "- Verwende die Python-Bibliotheken Numpy und Matplotlib\n",
    "- Verwende die Klasse matlibplot.plt.scatter. Recherchiere dazu im Internt, wie genau diese Klasse verwendet wird."
   ]
  },
  {
   "cell_type": "markdown",
   "metadata": {},
   "source": [
    "**Tipp:** Du kannst die Aufgabe lösen, indem du das folgende Programm-Fragment entspechend anpasst/erweiterst. Erstelle damit ein ansprechendes Diagramm, passe die Achsenbeschriftungen an und füge auch noch einen aussagekräftigenDiagramm-Titel hinzu.¶"
   ]
  },
  {
   "cell_type": "code",
   "execution_count": null,
   "metadata": {},
   "outputs": [],
   "source": [
    "#import matplotlib as mlp\n",
    "import matplotlib.pyplot as plt\n",
    "\n",
    "plt.scatter(1,2, s=300, color='blue') # Einen Punkt zeichnen\n",
    "\n",
    "plt.xlabel('x-Achse'); plt.ylabel('y-Achse') # Label für die Koordinatenachsen\n",
    "plt.axis([0, 5, 0, 5]) # Achsen-Bereiche festlegen; Syntax: plt.axis([xmin, xmax, ymin, ymax])\n",
    "plt.grid(True)         # Diagramm-Gitter einblenden\n",
    "plt.show()             # Diagramm anzeigen"
   ]
  }
 ],
 "metadata": {
  "kernelspec": {
   "display_name": "Python 3 (ipykernel)",
   "language": "python",
   "name": "python3"
  },
  "language_info": {
   "codemirror_mode": {
    "name": "ipython",
    "version": 3
   },
   "file_extension": ".py",
   "mimetype": "text/x-python",
   "name": "python",
   "nbconvert_exporter": "python",
   "pygments_lexer": "ipython3",
   "version": "3.11.1"
  }
 },
 "nbformat": 4,
 "nbformat_minor": 2
}
