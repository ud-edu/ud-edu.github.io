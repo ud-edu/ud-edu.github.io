{
 "cells": [
  {
   "cell_type": "markdown",
   "metadata": {},
   "source": [
    "<img src=\"Perzeptron_Klassifikation_Tier.png\" width=\"390\" style=\"float:right\">\n",
    "\n",
    "# Perzeptron: Klassifikation Tiere\n",
    "Quelle: inf-schule.de, Kapitel [13.1.2.2](https://inf-schule.de/informatiksysteme/kuenstliche-intelligenz/maschinelles-lernen/perzeptron_als_kuenstliches_neuron#aufgaben), Aufgaben 1 bis 4"
   ]
  },
  {
   "cell_type": "markdown",
   "metadata": {},
   "source": [
    "# Tipp: Verwendung von np.array und Berechnung des Skalarproduktes"
   ]
  },
  {
   "cell_type": "code",
   "execution_count": null,
   "metadata": {},
   "outputs": [],
   "source": [
    "import numpy as np\n",
    "a = np.array( [ 2, 4  ] )\n",
    "b = np.array( [20, 0.5] )\n",
    "print( np.dot(a,b) )"
   ]
  },
  {
   "cell_type": "markdown",
   "metadata": {},
   "source": [
    "# Aufgabe 0:\n",
    "Definiere zunächst ein Perzeptron mit Gewicht $\\vec{w}=(1,0.5)^T$ und Schwellenwert $\\Theta = 2$ als Python-Funktion. Diese Funktion kann dann in Aufgabe 1-4 verwendet werden."
   ]
  },
  {
   "cell_type": "code",
   "execution_count": null,
   "metadata": {},
   "outputs": [],
   "source": [
    "import numpy as np"
   ]
  },
  {
   "cell_type": "code",
   "execution_count": null,
   "metadata": {},
   "outputs": [],
   "source": [
    "# Die Funktion percepton gibt 0 oder 1 zurück (entspricht \"nicht feuern\" oder \"feuern\")\n",
    "def perceptron(a):\n",
    "    # Hier muss die Definition der Funktion hin:\n",
    "    "
   ]
  },
  {
   "cell_type": "code",
   "execution_count": null,
   "metadata": {},
   "outputs": [],
   "source": [
    "# Aufruf der Funktion zum Testen\n",
    "perceptron( np.array([23,42]) )"
   ]
  },
  {
   "cell_type": "markdown",
   "metadata": {},
   "source": [
    "# Aufgabe 1:\n",
    "Klassifiziere die folgenden Tiere mit dem oben definierten Perzeptron ($w_1= 1, w_2=0,5, \\Theta=2$) nach ihrer Gefährlichkeit. Die Eingabewerte der Tiere werden jeweils in Vektorform\n",
    "$\\vec{x} = \\left(\\begin{array}{ll} x_1  \\\\ x_2 \\end{array}\\right)$\n",
    "geschrieben:\n",
    "\n",
    "\\begin{eqnarray}\n",
    "\\vec{a} = \\left(\\begin{array}{ll} 3  \\\\ 0 \\end{array}\\right)\\qquad\n",
    "\\vec{b} = \\left(\\begin{array}{ll} 0  \\\\ 3 \\end{array}\\right)\\qquad\n",
    "\\vec{c} = \\left(\\begin{array}{ll} 0,5  \\\\ 2 \\end{array}\\right)\\qquad\n",
    "\\vec{d} = \\left(\\begin{array}{ll} 2  \\\\ 0,5 \\end{array}\\right)\\qquad \\nonumber\n",
    "\\end{eqnarray}\n"
   ]
  },
  {
   "cell_type": "code",
   "execution_count": null,
   "metadata": {},
   "outputs": [],
   "source": []
  },
  {
   "cell_type": "markdown",
   "metadata": {},
   "source": [
    "<img src=\"aufgabe_klassifikation_tiere_anhand_diagramm.png\" width=\"300\" style=\"float:right\">\n",
    "\n",
    "# Aufgabe 2:\n",
    "Die Punkte A, B, C, D, E, F sollen Tiere symbolisieren, die nach ihrer Gefährlichkeit klassifiziert werden sollen.  \n",
    "Klassifiziere die Tiere mit dem oben definierten Perzeptron ($w_1= 1, w_2=0,5, \\Theta=2$) nach ihrer Gefährlichkeit. Gib jeweils drei weitere Beispiele für gefährliche Tiere und für ungefährliche Tiere an."
   ]
  },
  {
   "cell_type": "code",
   "execution_count": null,
   "metadata": {},
   "outputs": [],
   "source": []
  },
  {
   "cell_type": "markdown",
   "metadata": {},
   "source": [
    "# Aufgabe 3\n",
    "Implementiere das oben definierte Perzepron zur Klassifikation von Tieren in Python. (Tipp: Verwende die Python-Biblithek NumPy)\n"
   ]
  },
  {
   "cell_type": "code",
   "execution_count": null,
   "metadata": {},
   "outputs": [],
   "source": [
    "Anmerkung: Falls Aufgabe 2 bereits mit Python gelöst wurde, ist hier nichts zu tun!"
   ]
  },
  {
   "cell_type": "markdown",
   "metadata": {},
   "source": [
    "<img src=\"aufgabe_klassifikation_tiere_anhand_diagramm.png\" width=\"300\" style=\"float:right\">\n",
    "\n",
    "# Aufgabe 4:\n",
    "Klassifiziere die Tiere aus Aufgabe 2 mit dem Python-Programm aus Aufgabe 3 und stelle die Ergebnisse graphisch in der Zahlenebene dar, indem du die Punkte entsprechend einfärbst. \n",
    "\n",
    "Rot: gefährlich  \n",
    "Grün: ungefährlich\n",
    "\n",
    "Tipps: \n",
    "\n",
    "- Verwende die Python-Bibliotheken NumPy und Matplotlib\n",
    "- Verwende die Klasse matlibplot.plt.scatter. Recherchiere im Internt, wie genau diese Klasse verwendet wird."
   ]
  },
  {
   "cell_type": "markdown",
   "metadata": {},
   "source": [
    "#### Du kannst die Aufgabe lösen, indem du das folgende Programm-Fragment entspechend anpasst/erweiterst:"
   ]
  },
  {
   "cell_type": "code",
   "execution_count": null,
   "metadata": {
    "scrolled": false
   },
   "outputs": [],
   "source": [
    "#import matplotlib as mlp\n",
    "import matplotlib.pyplot as plt\n",
    "\n",
    "plt.scatter(1,2, s=300, color='red') # Einen Punkt zeichnen\n",
    "\n",
    "plt.xlabel('Zahngröße'); plt.ylabel('Augengröße') # Label für die Koordinatenachsen\n",
    "plt.axis([0, 5, 0, 5]) # Achsen-Bereiche festlegen; Syntax: plt.axis([xmin, xmax, ymin, ymax])\n",
    "plt.grid(True)         # Diagramm-Gitter einblenden\n",
    "plt.show()             # Diagramm anzeigen"
   ]
  }
 ],
 "metadata": {
  "kernelspec": {
   "display_name": "Python 3 (ipykernel)",
   "language": "python",
   "name": "python3"
  },
  "language_info": {
   "codemirror_mode": {
    "name": "ipython",
    "version": 3
   },
   "file_extension": ".py",
   "mimetype": "text/x-python",
   "name": "python",
   "nbconvert_exporter": "python",
   "pygments_lexer": "ipython3",
   "version": "3.10.4"
  }
 },
 "nbformat": 4,
 "nbformat_minor": 2
}
